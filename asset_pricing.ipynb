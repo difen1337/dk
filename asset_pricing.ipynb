{
 "cells": [
  {
   "cell_type": "code",
   "execution_count": 1,
   "metadata": {},
   "outputs": [],
   "source": [
    "import pandas as pd\n",
    "import numpy as np\n",
    "import matplotlib.pylab as plt\n",
    "import seaborn as sns\n",
    "import statsmodels.api as sm\n",
    "import scipy.stats as sci\n",
    "\n",
    "pd.set_option('float_format', '{:6.3f}'.format)\n",
    "sns.set(style='ticks')\n",
    "\n",
    "import warnings\n",
    "warnings.filterwarnings(\"ignore\")"
   ]
  },
  {
   "cell_type": "code",
   "execution_count": 2,
   "metadata": {},
   "outputs": [],
   "source": [
    "from pylab import rcParams\n",
    "%matplotlib inline\n",
    "rcParams['figure.figsize'] = 20,4"
   ]
  },
  {
   "cell_type": "code",
   "execution_count": 3,
   "metadata": {},
   "outputs": [],
   "source": [
    "#Q5\n",
    "df=pd.read_csv('CAT.csv')"
   ]
  },
  {
   "cell_type": "code",
   "execution_count": 4,
   "metadata": {},
   "outputs": [
    {
     "data": {
      "text/html": [
       "<div>\n",
       "<style scoped>\n",
       "    .dataframe tbody tr th:only-of-type {\n",
       "        vertical-align: middle;\n",
       "    }\n",
       "\n",
       "    .dataframe tbody tr th {\n",
       "        vertical-align: top;\n",
       "    }\n",
       "\n",
       "    .dataframe thead th {\n",
       "        text-align: right;\n",
       "    }\n",
       "</style>\n",
       "<table border=\"1\" class=\"dataframe\">\n",
       "  <thead>\n",
       "    <tr style=\"text-align: right;\">\n",
       "      <th></th>\n",
       "      <th>Date</th>\n",
       "      <th>Open</th>\n",
       "      <th>High</th>\n",
       "      <th>Low</th>\n",
       "      <th>Close</th>\n",
       "      <th>Adj Close</th>\n",
       "      <th>Volume</th>\n",
       "    </tr>\n",
       "  </thead>\n",
       "  <tbody>\n",
       "    <tr>\n",
       "      <th>0</th>\n",
       "      <td>1962-12-01</td>\n",
       "      <td>1.505</td>\n",
       "      <td>1.583</td>\n",
       "      <td>1.474</td>\n",
       "      <td>1.557</td>\n",
       "      <td>0.137</td>\n",
       "      <td>3909600</td>\n",
       "    </tr>\n",
       "    <tr>\n",
       "      <th>1</th>\n",
       "      <td>1963-01-01</td>\n",
       "      <td>1.557</td>\n",
       "      <td>1.620</td>\n",
       "      <td>1.542</td>\n",
       "      <td>1.604</td>\n",
       "      <td>0.141</td>\n",
       "      <td>3465600</td>\n",
       "    </tr>\n",
       "    <tr>\n",
       "      <th>2</th>\n",
       "      <td>1963-02-01</td>\n",
       "      <td>1.604</td>\n",
       "      <td>1.609</td>\n",
       "      <td>1.458</td>\n",
       "      <td>1.458</td>\n",
       "      <td>0.129</td>\n",
       "      <td>3072000</td>\n",
       "    </tr>\n",
       "    <tr>\n",
       "      <th>3</th>\n",
       "      <td>1963-03-01</td>\n",
       "      <td>1.458</td>\n",
       "      <td>1.536</td>\n",
       "      <td>1.443</td>\n",
       "      <td>1.521</td>\n",
       "      <td>0.134</td>\n",
       "      <td>3237600</td>\n",
       "    </tr>\n",
       "    <tr>\n",
       "      <th>4</th>\n",
       "      <td>1963-04-01</td>\n",
       "      <td>1.521</td>\n",
       "      <td>1.594</td>\n",
       "      <td>1.521</td>\n",
       "      <td>1.552</td>\n",
       "      <td>0.137</td>\n",
       "      <td>4440000</td>\n",
       "    </tr>\n",
       "  </tbody>\n",
       "</table>\n",
       "</div>"
      ],
      "text/plain": [
       "         Date   Open   High    Low  Close  Adj Close   Volume\n",
       "0  1962-12-01  1.505  1.583  1.474  1.557      0.137  3909600\n",
       "1  1963-01-01  1.557  1.620  1.542  1.604      0.141  3465600\n",
       "2  1963-02-01  1.604  1.609  1.458  1.458      0.129  3072000\n",
       "3  1963-03-01  1.458  1.536  1.443  1.521      0.134  3237600\n",
       "4  1963-04-01  1.521  1.594  1.521  1.552      0.137  4440000"
      ]
     },
     "execution_count": 4,
     "metadata": {},
     "output_type": "execute_result"
    }
   ],
   "source": [
    "df.head()"
   ]
  },
  {
   "cell_type": "code",
   "execution_count": 5,
   "metadata": {},
   "outputs": [],
   "source": [
    "df['adj_close_ln'] = df['Adj Close'].map(lambda x: np.log(x))\n",
    "df['net_return'] = df['Adj Close'].diff(1)/df['Adj Close'].shift(1)*100\n",
    "df['return_ln'] = df['adj_close_ln'].diff(1)*100"
   ]
  },
  {
   "cell_type": "code",
   "execution_count": 6,
   "metadata": {},
   "outputs": [
    {
     "data": {
      "text/plain": [
       "8.443139861283912"
      ]
     },
     "execution_count": 6,
     "metadata": {},
     "output_type": "execute_result"
    }
   ],
   "source": [
    "df['net_return'].dropna().std()"
   ]
  },
  {
   "cell_type": "code",
   "execution_count": 7,
   "metadata": {},
   "outputs": [
    {
     "data": {
      "text/plain": [
       "1.3592549501946947"
      ]
     },
     "execution_count": 7,
     "metadata": {},
     "output_type": "execute_result"
    }
   ],
   "source": [
    "df['net_return'].dropna().mean()"
   ]
  },
  {
   "cell_type": "code",
   "execution_count": 8,
   "metadata": {},
   "outputs": [
    {
     "data": {
      "text/plain": [
       "nan"
      ]
     },
     "execution_count": 8,
     "metadata": {},
     "output_type": "execute_result"
    }
   ],
   "source": [
    "sci.gmean(np.array(df['net_return'].dropna()))"
   ]
  },
  {
   "cell_type": "code",
   "execution_count": 9,
   "metadata": {},
   "outputs": [
    {
     "data": {
      "text/plain": [
       "8.440598591230625"
      ]
     },
     "execution_count": 9,
     "metadata": {},
     "output_type": "execute_result"
    }
   ],
   "source": [
    "df['return_ln'].dropna().std()"
   ]
  },
  {
   "cell_type": "code",
   "execution_count": 10,
   "metadata": {},
   "outputs": [
    {
     "data": {
      "text/plain": [
       "0.9984865912836414"
      ]
     },
     "execution_count": 10,
     "metadata": {},
     "output_type": "execute_result"
    }
   ],
   "source": [
    "df['return_ln'].dropna().mean()"
   ]
  },
  {
   "cell_type": "code",
   "execution_count": 13,
   "metadata": {},
   "outputs": [
    {
     "data": {
      "text/plain": [
       "1       2.965\n",
       "2      -8.875\n",
       "3       4.197\n",
       "4       2.033\n",
       "5      18.309\n",
       "6      -2.857\n",
       "7       0.578\n",
       "8       4.069\n",
       "9      -3.689\n",
       "10      7.246\n",
       "11      2.021\n",
       "12      1.840\n",
       "13      8.723\n",
       "14      4.097\n",
       "15     12.544\n",
       "16     -2.469\n",
       "17      3.728\n",
       "18      5.884\n",
       "19      5.015\n",
       "20     -1.612\n",
       "21      5.055\n",
       "22      6.145\n",
       "23     11.209\n",
       "24     -1.802\n",
       "25     -1.527\n",
       "26      9.170\n",
       "27     -8.240\n",
       "28     11.574\n",
       "29     -2.711\n",
       "30     -2.865\n",
       "        ...  \n",
       "657     5.964\n",
       "658     8.519\n",
       "659     4.459\n",
       "660    11.011\n",
       "661     3.247\n",
       "662    -4.673\n",
       "663    -4.802\n",
       "664    -2.070\n",
       "665     5.600\n",
       "666   -11.306\n",
       "667     5.820\n",
       "668    -2.892\n",
       "669     9.370\n",
       "670   -22.867\n",
       "671    11.815\n",
       "672    -6.549\n",
       "673     4.681\n",
       "674     3.732\n",
       "675    -1.356\n",
       "676     2.859\n",
       "677   -14.554\n",
       "678    12.888\n",
       "679    -3.449\n",
       "680    -9.351\n",
       "681     5.962\n",
       "682     8.706\n",
       "683     5.690\n",
       "684     2.018\n",
       "685   -11.718\n",
       "686    -1.106\n",
       "Name: return_ln, Length: 686, dtype: float64"
      ]
     },
     "execution_count": 13,
     "metadata": {},
     "output_type": "execute_result"
    }
   ],
   "source": [
    "df['return_ln'].dropna()"
   ]
  },
  {
   "cell_type": "code",
   "execution_count": 16,
   "metadata": {},
   "outputs": [
    {
     "data": {
      "text/plain": [
       "nan"
      ]
     },
     "execution_count": 16,
     "metadata": {},
     "output_type": "execute_result"
    }
   ],
   "source": [
    "sci.gmean([1,2,-3,5])"
   ]
  },
  {
   "cell_type": "markdown",
   "metadata": {},
   "source": [
    "The volatility for the returns of this stock is not so high about 4%, therefore it is not so risky"
   ]
  },
  {
   "cell_type": "code",
   "execution_count": 291,
   "metadata": {},
   "outputs": [
    {
     "data": {
      "image/png": "[encoded data removed]",
      "text/plain": [
       "<Figure size 1440x288 with 1 Axes>"
      ]
     },
     "metadata": {},
     "output_type": "display_data"
    }
   ],
   "source": [
    "plt.plot(df['net_return'].dropna())\n",
    "plt.show()"
   ]
  },
  {
   "cell_type": "markdown",
   "metadata": {},
   "source": [
    "looking at the plot we see that volatility differs over time, so it means that the distribution of the returns alters but not a lot."
   ]
  },
  {
   "cell_type": "code",
   "execution_count": 292,
   "metadata": {},
   "outputs": [
    {
     "data": {
      "text/plain": [
       "(1034.7064045789189, 0.0)"
      ]
     },
     "execution_count": 292,
     "metadata": {},
     "output_type": "execute_result"
    }
   ],
   "source": [
    "#2\n",
    "from scipy import stats\n",
    "stats.jarque_bera(df['net_return'].dropna())"
   ]
  },
  {
   "cell_type": "code",
   "execution_count": 293,
   "metadata": {},
   "outputs": [
    {
     "data": {
      "text/plain": [
       "(2533.170666969156, 0.0)"
      ]
     },
     "execution_count": 293,
     "metadata": {},
     "output_type": "execute_result"
    }
   ],
   "source": [
    "stats.jarque_bera(df['return_ln'].dropna())"
   ]
  },
  {
   "cell_type": "markdown",
   "metadata": {},
   "source": [
    "the hypothesis h0 is rejected, p-value is quite low, therefore according to the test the distributions for both returns are not normal."
   ]
  },
  {
   "cell_type": "code",
   "execution_count": 294,
   "metadata": {},
   "outputs": [],
   "source": [
    "#3\n",
    "t_bill = pd.read_csv('TB3MS.csv',index_col = 0)/12\n",
    "stock = pd.read_csv('CAT-2.csv',index_col = 0)"
   ]
  },
  {
   "cell_type": "code",
   "execution_count": 295,
   "metadata": {},
   "outputs": [],
   "source": [
    "stock['net_return'] = stock['Adj Close'].diff(1)/stock['Adj Close'].shift(1)*100"
   ]
  },
  {
   "cell_type": "code",
   "execution_count": 296,
   "metadata": {},
   "outputs": [
    {
     "data": {
      "text/html": [
       "<div>\n",
       "<style scoped>\n",
       "    .dataframe tbody tr th:only-of-type {\n",
       "        vertical-align: middle;\n",
       "    }\n",
       "\n",
       "    .dataframe tbody tr th {\n",
       "        vertical-align: top;\n",
       "    }\n",
       "\n",
       "    .dataframe thead th {\n",
       "        text-align: right;\n",
       "    }\n",
       "</style>\n",
       "<table border=\"1\" class=\"dataframe\">\n",
       "  <thead>\n",
       "    <tr style=\"text-align: right;\">\n",
       "      <th></th>\n",
       "      <th>Open</th>\n",
       "      <th>High</th>\n",
       "      <th>Low</th>\n",
       "      <th>Close</th>\n",
       "      <th>Adj Close</th>\n",
       "      <th>Volume</th>\n",
       "      <th>net_return</th>\n",
       "    </tr>\n",
       "    <tr>\n",
       "      <th>Date</th>\n",
       "      <th></th>\n",
       "      <th></th>\n",
       "      <th></th>\n",
       "      <th></th>\n",
       "      <th></th>\n",
       "      <th></th>\n",
       "      <th></th>\n",
       "    </tr>\n",
       "  </thead>\n",
       "  <tbody>\n",
       "    <tr>\n",
       "      <th>1986-01-01</th>\n",
       "      <td>5.250</td>\n",
       "      <td>5.875</td>\n",
       "      <td>4.906</td>\n",
       "      <td>5.719</td>\n",
       "      <td>0.687</td>\n",
       "      <td>54699200</td>\n",
       "      <td>nan</td>\n",
       "    </tr>\n",
       "    <tr>\n",
       "      <th>1986-02-01</th>\n",
       "      <td>5.719</td>\n",
       "      <td>6.391</td>\n",
       "      <td>5.609</td>\n",
       "      <td>6.344</td>\n",
       "      <td>0.781</td>\n",
       "      <td>71880000</td>\n",
       "      <td>13.707</td>\n",
       "    </tr>\n",
       "    <tr>\n",
       "      <th>1986-03-01</th>\n",
       "      <td>6.344</td>\n",
       "      <td>6.703</td>\n",
       "      <td>6.250</td>\n",
       "      <td>6.578</td>\n",
       "      <td>0.810</td>\n",
       "      <td>62248000</td>\n",
       "      <td>3.695</td>\n",
       "    </tr>\n",
       "    <tr>\n",
       "      <th>1986-04-01</th>\n",
       "      <td>6.578</td>\n",
       "      <td>6.922</td>\n",
       "      <td>5.938</td>\n",
       "      <td>6.625</td>\n",
       "      <td>0.815</td>\n",
       "      <td>62166400</td>\n",
       "      <td>0.713</td>\n",
       "    </tr>\n",
       "    <tr>\n",
       "      <th>1986-05-01</th>\n",
       "      <td>6.625</td>\n",
       "      <td>6.891</td>\n",
       "      <td>6.203</td>\n",
       "      <td>6.781</td>\n",
       "      <td>0.852</td>\n",
       "      <td>53789600</td>\n",
       "      <td>4.474</td>\n",
       "    </tr>\n",
       "  </tbody>\n",
       "</table>\n",
       "</div>"
      ],
      "text/plain": [
       "             Open   High    Low  Close  Adj Close    Volume  net_return\n",
       "Date                                                                   \n",
       "1986-01-01  5.250  5.875  4.906  5.719      0.687  54699200         nan\n",
       "1986-02-01  5.719  6.391  5.609  6.344      0.781  71880000      13.707\n",
       "1986-03-01  6.344  6.703  6.250  6.578      0.810  62248000       3.695\n",
       "1986-04-01  6.578  6.922  5.938  6.625      0.815  62166400       0.713\n",
       "1986-05-01  6.625  6.891  6.203  6.781      0.852  53789600       4.474"
      ]
     },
     "execution_count": 296,
     "metadata": {},
     "output_type": "execute_result"
    }
   ],
   "source": [
    "stock.head()"
   ]
  },
  {
   "cell_type": "code",
   "execution_count": 297,
   "metadata": {},
   "outputs": [
    {
     "data": {
      "text/plain": [
       "237"
      ]
     },
     "execution_count": 297,
     "metadata": {},
     "output_type": "execute_result"
    }
   ],
   "source": [
    "x = 0\n",
    "for i in range(1,408):\n",
    "    if stock['net_return'].iloc[i] > float(t_bill.iloc[i]):\n",
    "        x += 1\n",
    "x"
   ]
  },
  {
   "cell_type": "code",
   "execution_count": 298,
   "metadata": {},
   "outputs": [
    {
     "data": {
      "image/png": "[encoded data removed]",
      "text/plain": [
       "<Figure size 1440x288 with 1 Axes>"
      ]
     },
     "metadata": {},
     "output_type": "display_data"
    }
   ],
   "source": [
    "plt.plot(stock['net_return'].dropna())\n",
    "plt.show()"
   ]
  },
  {
   "cell_type": "code",
   "execution_count": 299,
   "metadata": {},
   "outputs": [
    {
     "data": {
      "text/plain": [
       "241"
      ]
     },
     "execution_count": 299,
     "metadata": {},
     "output_type": "execute_result"
    }
   ],
   "source": [
    "x = 0\n",
    "for i in range(1,408):\n",
    "    if stock['net_return'].iloc[i] >= 0:\n",
    "        x += 1\n",
    "x"
   ]
  },
  {
   "cell_type": "code",
   "execution_count": 300,
   "metadata": {},
   "outputs": [
    {
     "name": "stdout",
     "output_type": "stream",
     "text": [
      "TB3MS    0.264\n",
      "dtype: float64 \n",
      " TB3MS    0.255\n",
      "dtype: float64 \n",
      " TB3MS    0.205\n",
      "dtype: float64\n"
     ]
    }
   ],
   "source": [
    "print(t_bill.mean(),'\\n',t_bill.median(),'\\n', t_bill.std())"
   ]
  },
  {
   "cell_type": "code",
   "execution_count": 301,
   "metadata": {},
   "outputs": [
    {
     "data": {
      "text/plain": [
       "1.741239939880668"
      ]
     },
     "execution_count": 301,
     "metadata": {},
     "output_type": "execute_result"
    }
   ],
   "source": [
    "stock['net_return'].mean()"
   ]
  },
  {
   "cell_type": "code",
   "execution_count": 302,
   "metadata": {},
   "outputs": [
    {
     "data": {
      "text/plain": [
       "1.9396364268939636"
      ]
     },
     "execution_count": 302,
     "metadata": {},
     "output_type": "execute_result"
    }
   ],
   "source": [
    "stock['net_return'].median()"
   ]
  },
  {
   "cell_type": "code",
   "execution_count": 303,
   "metadata": {},
   "outputs": [
    {
     "data": {
      "text/plain": [
       "9.078382743354947"
      ]
     },
     "execution_count": 303,
     "metadata": {},
     "output_type": "execute_result"
    }
   ],
   "source": [
    "stock['net_return'].std()"
   ]
  },
  {
   "cell_type": "code",
   "execution_count": 304,
   "metadata": {},
   "outputs": [
    {
     "name": "stdout",
     "output_type": "stream",
     "text": [
      "1.284299546616966 \n",
      " 0.19180067519792482\n"
     ]
    }
   ],
   "source": [
    "print(float(t_bill.mean()/t_bill.std()),'\\n',stock['net_return'].mean()/stock['net_return'].std())"
   ]
  },
  {
   "cell_type": "markdown",
   "metadata": {},
   "source": [
    "This stock was better compared to T-bill in 237 events out of 407 more than 50%. Sometimes there were huge differences in the returns, nevertheless t-bill is more stable and has about 8 times lower mean and median. I would say this stock is not a bad investment. It depends on an attitude to the risk."
   ]
  },
  {
   "cell_type": "code",
   "execution_count": 305,
   "metadata": {},
   "outputs": [
    {
     "data": {
      "text/plain": [
       "Ttest_1sampResult(statistic=-18.352852103653344, pvalue=3.2243366082785254e-55)"
      ]
     },
     "execution_count": 305,
     "metadata": {},
     "output_type": "execute_result"
    }
   ],
   "source": [
    "#4\n",
    "sci.ttest_1samp(stock['net_return'].dropna(),popmean = 10)"
   ]
  },
  {
   "cell_type": "markdown",
   "metadata": {},
   "source": [
    "I conducted T test. the null hypothesis is the expected return is equal to 10, the alternative hypothesis is the expected return is not equal to 10. under 5% level of significance the null hypothesis is rejected, p-value is quite low. It means that according to the distribution of the returns the expected return of 10 is too far away from the sample mean. In other words, the expected return is not equal to 10."
   ]
  },
  {
   "cell_type": "code",
   "execution_count": 306,
   "metadata": {},
   "outputs": [],
   "source": [
    "#Q6\n",
    "#1\n",
    "t_bill_w = pd.read_csv('WTB3MS.csv')\n",
    "dji = pd.read_csv('^DJI.csv')"
   ]
  },
  {
   "cell_type": "code",
   "execution_count": 307,
   "metadata": {},
   "outputs": [],
   "source": [
    "dji['net_return'] = dji['Adj Close'].diff(1)/dji['Adj Close'].shift(1)*100"
   ]
  },
  {
   "cell_type": "code",
   "execution_count": 312,
   "metadata": {},
   "outputs": [],
   "source": [
    "dji['excess_return'] = dji['net_return'] - t_bill_w['WTB3MS']/52\n",
    "df['excess_return'] = df['net_return'] - t_bill_w['WTB3MS']/52"
   ]
  },
  {
   "cell_type": "code",
   "execution_count": 318,
   "metadata": {},
   "outputs": [
    {
     "name": "stdout",
     "output_type": "stream",
     "text": [
      "                            OLS Regression Results                            \n",
      "==============================================================================\n",
      "Dep. Variable:          excess_return   R-squared:                       0.443\n",
      "Model:                            OLS   Adj. R-squared:                  0.443\n",
      "Method:                 Least Squares   F-statistic:                     1065.\n",
      "Date:                Sun, 02 Feb 2020   Prob (F-statistic):          2.40e-183\n",
      "Time:                        17:45:15   Log-Likelihood:                -4662.7\n",
      "No. Observations:                1773   AIC:                             9329.\n",
      "Df Residuals:                    1771   BIC:                             9340.\n",
      "Df Model:                           1                                         \n",
      "Covariance Type:                  HC0                                         \n",
      "=================================================================================\n",
      "                    coef    std err          z      P>|z|      [0.025      0.975]\n",
      "---------------------------------------------------------------------------------\n",
      "const             0.1770      0.079      2.231      0.026       0.022       0.332\n",
      "excess_return     1.3336      0.041     32.638      0.000       1.254       1.414\n",
      "==============================================================================\n",
      "Omnibus:                      141.158   Durbin-Watson:                   2.109\n",
      "Prob(Omnibus):                  0.000   Jarque-Bera (JB):              736.593\n",
      "Skew:                           0.132   Prob(JB):                    1.12e-160\n",
      "Kurtosis:                       6.147   Cond. No.                         2.26\n",
      "==============================================================================\n",
      "\n",
      "Warnings:\n",
      "[1] Standard Errors are heteroscedasticity robust (HC0)\n"
     ]
    }
   ],
   "source": [
    "from statsmodels.regression.linear_model import OLS\n",
    "model = OLS(df['excess_return'].dropna(), sm.add_constant(dji['excess_return'].dropna()))\n",
    "results = model.fit(cov_type='HC0') \n",
    "print(results.summary())"
   ]
  },
  {
   "cell_type": "markdown",
   "metadata": {},
   "source": [
    "Beta is a little bit higher than market beta, but not so much. This stock is not too risky according to the market risk"
   ]
  },
  {
   "cell_type": "markdown",
   "metadata": {},
   "source": [
    "#2\n",
    "alpha is equal to 0.17,statistically significant and positive, meaning it looks attractive."
   ]
  },
  {
   "cell_type": "code",
   "execution_count": 326,
   "metadata": {},
   "outputs": [
    {
     "data": {
      "text/plain": [
       "8.977052281230119"
      ]
     },
     "execution_count": 326,
     "metadata": {},
     "output_type": "execute_result"
    }
   ],
   "source": [
    "#3\n",
    "np.square(1.3336)*dji['net_return'].var()"
   ]
  },
  {
   "cell_type": "markdown",
   "metadata": {},
   "source": [
    "systematic"
   ]
  },
  {
   "cell_type": "code",
   "execution_count": 327,
   "metadata": {},
   "outputs": [
    {
     "data": {
      "text/plain": [
       "11.272316620704599"
      ]
     },
     "execution_count": 327,
     "metadata": {},
     "output_type": "execute_result"
    }
   ],
   "source": [
    "results.resid.var()"
   ]
  },
  {
   "cell_type": "markdown",
   "metadata": {},
   "source": [
    "idiosyncratic "
   ]
  },
  {
   "cell_type": "code",
   "execution_count": 328,
   "metadata": {},
   "outputs": [
    {
     "data": {
      "text/plain": [
       "3.356719313059282"
      ]
     },
     "execution_count": 328,
     "metadata": {},
     "output_type": "execute_result"
    }
   ],
   "source": [
    "np.sqrt(df['net_return'].var() - np.square(1.3336)*dji['net_return'].var())"
   ]
  },
  {
   "cell_type": "markdown",
   "metadata": {},
   "source": [
    "idiosyncratic volatility"
   ]
  },
  {
   "cell_type": "code",
   "execution_count": 330,
   "metadata": {},
   "outputs": [
    {
     "data": {
      "text/plain": [
       "2.995379810172776"
      ]
     },
     "execution_count": 330,
     "metadata": {},
     "output_type": "execute_result"
    }
   ],
   "source": [
    "np.sqrt(df['net_return'].var() - results.resid.var())"
   ]
  },
  {
   "cell_type": "markdown",
   "metadata": {},
   "source": [
    "systematic volatility"
   ]
  },
  {
   "cell_type": "code",
   "execution_count": 334,
   "metadata": {},
   "outputs": [
    {
     "name": "stdout",
     "output_type": "stream",
     "text": [
      "0.1894684664833277 2.246680368280755\n"
     ]
    }
   ],
   "source": [
    "print(dji.net_return.mean(),dji.net_return.std())"
   ]
  },
  {
   "cell_type": "code",
   "execution_count": 333,
   "metadata": {},
   "outputs": [
    {
     "name": "stdout",
     "output_type": "stream",
     "text": [
      "0.40936330375979807 4.499401830009774\n"
     ]
    }
   ],
   "source": [
    "print(df.net_return.mean(),df.net_return.std())"
   ]
  },
  {
   "cell_type": "markdown",
   "metadata": {},
   "source": [
    "Idiosyncratic volatility is a little bit larger than systematic one. We see that the mean return of our stock is two times larger. Our model shows the estimated beta it is equal to 1.3 . In reality, our stock return has to be lower if there wasn't idiosyncratic risk. This company depends on some firm specific features, this is reflected in the price. R-square is 0.44 meaning 44% explained by the market risk."
   ]
  },
  {
   "cell_type": "code",
   "execution_count": 340,
   "metadata": {},
   "outputs": [
    {
     "name": "stdout",
     "output_type": "stream",
     "text": [
      "                            OLS Regression Results                            \n",
      "==============================================================================\n",
      "Dep. Variable:          excess_return   R-squared:                       0.481\n",
      "Model:                            OLS   Adj. R-squared:                  0.479\n",
      "Method:                 Least Squares   F-statistic:                     251.8\n",
      "Date:                Sun, 02 Feb 2020   Prob (F-statistic):           1.42e-37\n",
      "Time:                        19:13:06   Log-Likelihood:                -563.62\n",
      "No. Observations:                 208   AIC:                             1131.\n",
      "Df Residuals:                     206   BIC:                             1138.\n",
      "Df Model:                           1                                         \n",
      "Covariance Type:                  HC0                                         \n",
      "=================================================================================\n",
      "                    coef    std err          z      P>|z|      [0.025      0.975]\n",
      "---------------------------------------------------------------------------------\n",
      "const             0.1422      0.253      0.561      0.575      -0.354       0.639\n",
      "excess_return     1.1790      0.074     15.868      0.000       1.033       1.325\n",
      "==============================================================================\n",
      "Omnibus:                       23.971   Durbin-Watson:                   2.132\n",
      "Prob(Omnibus):                  0.000   Jarque-Bera (JB):               74.444\n",
      "Skew:                           0.391   Prob(JB):                     6.83e-17\n",
      "Kurtosis:                       5.825   Cond. No.                         2.99\n",
      "==============================================================================\n",
      "\n",
      "Warnings:\n",
      "[1] Standard Errors are heteroscedasticity robust (HC0)\n"
     ]
    }
   ],
   "source": [
    "#4\n",
    "#80th\n",
    "model = OLS(df['excess_return'][:209].dropna(), sm.add_constant(dji['excess_return'][:209].dropna()))\n",
    "results = model.fit(cov_type='HC0') \n",
    "print(results.summary())"
   ]
  },
  {
   "cell_type": "code",
   "execution_count": 349,
   "metadata": {},
   "outputs": [
    {
     "name": "stdout",
     "output_type": "stream",
     "text": [
      "                            OLS Regression Results                            \n",
      "==============================================================================\n",
      "Dep. Variable:          excess_return   R-squared:                       0.279\n",
      "Model:                            OLS   Adj. R-squared:                  0.278\n",
      "Method:                 Least Squares   F-statistic:                     169.3\n",
      "Date:                Sun, 02 Feb 2020   Prob (F-statistic):           1.02e-33\n",
      "Time:                        19:15:12   Log-Likelihood:                -1433.8\n",
      "No. Observations:                 523   AIC:                             2872.\n",
      "Df Residuals:                     521   BIC:                             2880.\n",
      "Df Model:                           1                                         \n",
      "Covariance Type:                  HC0                                         \n",
      "=================================================================================\n",
      "                    coef    std err          z      P>|z|      [0.025      0.975]\n",
      "---------------------------------------------------------------------------------\n",
      "const             0.1913      0.165      1.158      0.247      -0.132       0.515\n",
      "excess_return     1.2088      0.093     13.012      0.000       1.027       1.391\n",
      "==============================================================================\n",
      "Omnibus:                       33.793   Durbin-Watson:                   2.158\n",
      "Prob(Omnibus):                  0.000   Jarque-Bera (JB):               96.872\n",
      "Skew:                           0.248   Prob(JB):                     9.21e-22\n",
      "Kurtosis:                       5.049   Cond. No.                         1.96\n",
      "==============================================================================\n",
      "\n",
      "Warnings:\n",
      "[1] Standard Errors are heteroscedasticity robust (HC0)\n"
     ]
    }
   ],
   "source": [
    "#90\n",
    "model = OLS(df['excess_return'][209:732].dropna(), sm.add_constant(dji['excess_return'][209:732].dropna()))\n",
    "results = model.fit(cov_type='HC0') \n",
    "print(results.summary())"
   ]
  },
  {
   "cell_type": "code",
   "execution_count": 353,
   "metadata": {},
   "outputs": [
    {
     "name": "stdout",
     "output_type": "stream",
     "text": [
      "                            OLS Regression Results                            \n",
      "==============================================================================\n",
      "Dep. Variable:          excess_return   R-squared:                       0.512\n",
      "Model:                            OLS   Adj. R-squared:                  0.511\n",
      "Method:                 Least Squares   F-statistic:                     333.6\n",
      "Date:                Sun, 02 Feb 2020   Prob (F-statistic):           6.13e-58\n",
      "Time:                        19:16:43   Log-Likelihood:                -1395.3\n",
      "No. Observations:                 522   AIC:                             2795.\n",
      "Df Residuals:                     520   BIC:                             2803.\n",
      "Df Model:                           1                                         \n",
      "Covariance Type:                  HC0                                         \n",
      "=================================================================================\n",
      "                    coef    std err          z      P>|z|      [0.025      0.975]\n",
      "---------------------------------------------------------------------------------\n",
      "const             0.3622      0.154      2.351      0.019       0.060       0.664\n",
      "excess_return     1.4071      0.077     18.263      0.000       1.256       1.558\n",
      "==============================================================================\n",
      "Omnibus:                       52.868   Durbin-Watson:                   2.130\n",
      "Prob(Omnibus):                  0.000   Jarque-Bera (JB):              307.904\n",
      "Skew:                          -0.126   Prob(JB):                     1.38e-67\n",
      "Kurtosis:                       6.754   Cond. No.                         2.55\n",
      "==============================================================================\n",
      "\n",
      "Warnings:\n",
      "[1] Standard Errors are heteroscedasticity robust (HC0)\n"
     ]
    }
   ],
   "source": [
    "#00\n",
    "model = OLS(df['excess_return'][731:1253].dropna(), sm.add_constant(dji['excess_return'][731:1253].dropna()))\n",
    "results = model.fit(cov_type='HC0') \n",
    "print(results.summary())"
   ]
  },
  {
   "cell_type": "code",
   "execution_count": 360,
   "metadata": {},
   "outputs": [
    {
     "name": "stdout",
     "output_type": "stream",
     "text": [
      "                            OLS Regression Results                            \n",
      "==============================================================================\n",
      "Dep. Variable:          excess_return   R-squared:                       0.548\n",
      "Model:                            OLS   Adj. R-squared:                  0.547\n",
      "Method:                 Least Squares   F-statistic:                     338.8\n",
      "Date:                Sun, 02 Feb 2020   Prob (F-statistic):           1.30e-58\n",
      "Time:                        19:18:16   Log-Likelihood:                -1218.3\n",
      "No. Observations:                 521   AIC:                             2441.\n",
      "Df Residuals:                     519   BIC:                             2449.\n",
      "Df Model:                           1                                         \n",
      "Covariance Type:                  HC0                                         \n",
      "=================================================================================\n",
      "                    coef    std err          z      P>|z|      [0.025      0.975]\n",
      "---------------------------------------------------------------------------------\n",
      "const            -0.0045      0.113     -0.040      0.968      -0.225       0.216\n",
      "excess_return     1.5024      0.082     18.407      0.000       1.342       1.662\n",
      "==============================================================================\n",
      "Omnibus:                       33.479   Durbin-Watson:                   1.963\n",
      "Prob(Omnibus):                  0.000   Jarque-Bera (JB):              101.580\n",
      "Skew:                          -0.216   Prob(JB):                     8.75e-23\n",
      "Kurtosis:                       5.120   Cond. No.                         1.87\n",
      "==============================================================================\n",
      "\n",
      "Warnings:\n",
      "[1] Standard Errors are heteroscedasticity robust (HC0)\n"
     ]
    }
   ],
   "source": [
    "#10\n",
    "model = OLS(df['excess_return'][1253:].dropna(), sm.add_constant(dji['excess_return'][1253:].dropna()))\n",
    "results = model.fit(cov_type='HC0') \n",
    "print(results.summary())"
   ]
  },
  {
   "cell_type": "markdown",
   "metadata": {},
   "source": [
    "Beta does not differ significantly over time, anyway so that to be precise it is better to use more modern one."
   ]
  },
  {
   "cell_type": "markdown",
   "metadata": {},
   "source": [
    "#5\n",
    "What is the average price- weighted alpha you'll get? It can be different, positive, negative or equal to zero. It will likely be close to zero, I assume in this interval (-0.01;0.01). Do your price-weighted betas sum up to 1? Not necessarily, It can be equal to 1 under some conditions, but anyway 63 stocks are greater than 30 stocks, some of them are not included in the index."
   ]
  },
  {
   "cell_type": "code",
   "execution_count": 361,
   "metadata": {},
   "outputs": [],
   "source": [
    "#Q7\n",
    "t_bill_m = pd.read_csv('TB3MS1.csv')"
   ]
  },
  {
   "cell_type": "code",
   "execution_count": 363,
   "metadata": {},
   "outputs": [
    {
     "name": "stdout",
     "output_type": "stream",
     "text": [
      "0.17870801033591727 0.25405199259996725\n"
     ]
    }
   ],
   "source": [
    "print((t_bill_m['TB3MS']/3).mean(),(t_bill_m['TB3MS']/3).std())"
   ]
  },
  {
   "cell_type": "code",
   "execution_count": null,
   "metadata": {},
   "outputs": [],
   "source": []
  }
 ],
 "metadata": {
  "kernelspec": {
   "display_name": "Python 3",
   "language": "python",
   "name": "python3"
  },
  "language_info": {
   "codemirror_mode": {
    "name": "ipython",
    "version": 3
   },
   "file_extension": ".py",
   "mimetype": "text/x-python",
   "name": "python",
   "nbconvert_exporter": "python",
   "pygments_lexer": "ipython3",
   "version": "3.7.3"
  }
 },
 "nbformat": 4,
 "nbformat_minor": 4
}
