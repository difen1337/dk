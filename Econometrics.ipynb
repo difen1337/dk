{
 "cells": [
  {
   "cell_type": "code",
   "execution_count": 4,
   "metadata": {},
   "outputs": [],
   "source": [
    "import pandas as pd\n",
    "import numpy as np\n",
    "import matplotlib.pylab as plt\n",
    "import seaborn as sns\n",
    "import statsmodels.api as sm\n",
    "\n",
    "pd.set_option('float_format', '{:6.4f}'.format)\n",
    "sns.set(style='ticks')\n",
    "\n",
    "import warnings\n",
    "warnings.filterwarnings(\"ignore\")"
   ]
  },
  {
   "cell_type": "code",
   "execution_count": 5,
   "metadata": {},
   "outputs": [],
   "source": [
    "df=pd.read_csv(\"villa.csv\")"
   ]
  },
  {
   "cell_type": "code",
   "execution_count": null,
   "metadata": {},
   "outputs": [],
   "source": [
    "df.head()"
   ]
  },
  {
   "cell_type": "code",
   "execution_count": null,
   "metadata": {},
   "outputs": [],
   "source": [
    "#2\n",
    "p_h=df[['price','house']]"
   ]
  },
  {
   "cell_type": "code",
   "execution_count": null,
   "metadata": {},
   "outputs": [],
   "source": [
    "p_h.describe()"
   ]
  },
  {
   "cell_type": "code",
   "execution_count": 6,
   "metadata": {},
   "outputs": [],
   "source": [
    "#3\n",
    "p_h['ln_p']=p_h['price'].map(lambda x: np.log(x))\n",
    "p_h['ln_h']=p_h['house'].map(lambda x: np.log(x))"
   ]
  },
  {
   "cell_type": "code",
   "execution_count": 7,
   "metadata": {},
   "outputs": [
    {
     "data": {
      "text/html": [
       "<div>\n",
       "<style scoped>\n",
       "    .dataframe tbody tr th:only-of-type {\n",
       "        vertical-align: middle;\n",
       "    }\n",
       "\n",
       "    .dataframe tbody tr th {\n",
       "        vertical-align: top;\n",
       "    }\n",
       "\n",
       "    .dataframe thead th {\n",
       "        text-align: right;\n",
       "    }\n",
       "</style>\n",
       "<table border=\"1\" class=\"dataframe\">\n",
       "  <thead>\n",
       "    <tr style=\"text-align: right;\">\n",
       "      <th></th>\n",
       "      <th>price</th>\n",
       "      <th>house</th>\n",
       "      <th>ln_p</th>\n",
       "      <th>ln_h</th>\n",
       "    </tr>\n",
       "  </thead>\n",
       "  <tbody>\n",
       "    <tr>\n",
       "      <th>count</th>\n",
       "      <td>50.0000</td>\n",
       "      <td>50.0000</td>\n",
       "      <td>50.0000</td>\n",
       "      <td>50.0000</td>\n",
       "    </tr>\n",
       "    <tr>\n",
       "      <th>mean</th>\n",
       "      <td>78.2500</td>\n",
       "      <td>192.2400</td>\n",
       "      <td>3.7847</td>\n",
       "      <td>4.9051</td>\n",
       "    </tr>\n",
       "    <tr>\n",
       "      <th>std</th>\n",
       "      <td>84.3432</td>\n",
       "      <td>151.8475</td>\n",
       "      <td>1.1449</td>\n",
       "      <td>0.8969</td>\n",
       "    </tr>\n",
       "    <tr>\n",
       "      <th>min</th>\n",
       "      <td>5.0000</td>\n",
       "      <td>22.0000</td>\n",
       "      <td>1.6094</td>\n",
       "      <td>3.0910</td>\n",
       "    </tr>\n",
       "    <tr>\n",
       "      <th>25%</th>\n",
       "      <td>16.6250</td>\n",
       "      <td>61.2500</td>\n",
       "      <td>2.8108</td>\n",
       "      <td>4.1144</td>\n",
       "    </tr>\n",
       "    <tr>\n",
       "      <th>50%</th>\n",
       "      <td>46.0000</td>\n",
       "      <td>160.0000</td>\n",
       "      <td>3.8284</td>\n",
       "      <td>5.0732</td>\n",
       "    </tr>\n",
       "    <tr>\n",
       "      <th>75%</th>\n",
       "      <td>99.0000</td>\n",
       "      <td>300.0000</td>\n",
       "      <td>4.5950</td>\n",
       "      <td>5.7038</td>\n",
       "    </tr>\n",
       "    <tr>\n",
       "      <th>max</th>\n",
       "      <td>320.0000</td>\n",
       "      <td>600.0000</td>\n",
       "      <td>5.7683</td>\n",
       "      <td>6.3969</td>\n",
       "    </tr>\n",
       "  </tbody>\n",
       "</table>\n",
       "</div>"
      ],
      "text/plain": [
       "         price    house    ln_p    ln_h\n",
       "count  50.0000  50.0000 50.0000 50.0000\n",
       "mean   78.2500 192.2400  3.7847  4.9051\n",
       "std    84.3432 151.8475  1.1449  0.8969\n",
       "min     5.0000  22.0000  1.6094  3.0910\n",
       "25%    16.6250  61.2500  2.8108  4.1144\n",
       "50%    46.0000 160.0000  3.8284  5.0732\n",
       "75%    99.0000 300.0000  4.5950  5.7038\n",
       "max   320.0000 600.0000  5.7683  6.3969"
      ]
     },
     "execution_count": 7,
     "metadata": {},
     "output_type": "execute_result"
    }
   ],
   "source": [
    "p_h.describe()"
   ]
  },
  {
   "cell_type": "code",
   "execution_count": 8,
   "metadata": {},
   "outputs": [
    {
     "data": {
      "text/html": [
       "<div>\n",
       "<style scoped>\n",
       "    .dataframe tbody tr th:only-of-type {\n",
       "        vertical-align: middle;\n",
       "    }\n",
       "\n",
       "    .dataframe tbody tr th {\n",
       "        vertical-align: top;\n",
       "    }\n",
       "\n",
       "    .dataframe thead th {\n",
       "        text-align: right;\n",
       "    }\n",
       "</style>\n",
       "<table border=\"1\" class=\"dataframe\">\n",
       "  <thead>\n",
       "    <tr style=\"text-align: right;\">\n",
       "      <th></th>\n",
       "      <th>price</th>\n",
       "      <th>house</th>\n",
       "      <th>ln_p</th>\n",
       "      <th>ln_h</th>\n",
       "    </tr>\n",
       "  </thead>\n",
       "  <tbody>\n",
       "    <tr>\n",
       "      <th>0</th>\n",
       "      <td>300.0000</td>\n",
       "      <td>400</td>\n",
       "      <td>5.7038</td>\n",
       "      <td>5.9915</td>\n",
       "    </tr>\n",
       "    <tr>\n",
       "      <th>1</th>\n",
       "      <td>60.0000</td>\n",
       "      <td>170</td>\n",
       "      <td>4.0943</td>\n",
       "      <td>5.1358</td>\n",
       "    </tr>\n",
       "    <tr>\n",
       "      <th>2</th>\n",
       "      <td>14.0000</td>\n",
       "      <td>60</td>\n",
       "      <td>2.6391</td>\n",
       "      <td>4.0943</td>\n",
       "    </tr>\n",
       "    <tr>\n",
       "      <th>3</th>\n",
       "      <td>38.0000</td>\n",
       "      <td>65</td>\n",
       "      <td>3.6376</td>\n",
       "      <td>4.1744</td>\n",
       "    </tr>\n",
       "    <tr>\n",
       "      <th>4</th>\n",
       "      <td>85.0000</td>\n",
       "      <td>320</td>\n",
       "      <td>4.4427</td>\n",
       "      <td>5.7683</td>\n",
       "    </tr>\n",
       "  </tbody>\n",
       "</table>\n",
       "</div>"
      ],
      "text/plain": [
       "     price  house   ln_p   ln_h\n",
       "0 300.0000    400 5.7038 5.9915\n",
       "1  60.0000    170 4.0943 5.1358\n",
       "2  14.0000     60 2.6391 4.0943\n",
       "3  38.0000     65 3.6376 4.1744\n",
       "4  85.0000    320 4.4427 5.7683"
      ]
     },
     "execution_count": 8,
     "metadata": {},
     "output_type": "execute_result"
    }
   ],
   "source": [
    "p_h.head()"
   ]
  },
  {
   "cell_type": "code",
   "execution_count": 9,
   "metadata": {},
   "outputs": [
    {
     "data": {
      "image/png": "[encoded data removed]",
      "text/plain": [
       "<Figure size 432x288 with 1 Axes>"
      ]
     },
     "metadata": {
      "needs_background": "light"
     },
     "output_type": "display_data"
    }
   ],
   "source": [
    "#4 \n",
    "sns.scatterplot(x=p_h['house'],y=p_h['price'])\n",
    "plt.show()"
   ]
  },
  {
   "cell_type": "code",
   "execution_count": 10,
   "metadata": {},
   "outputs": [
    {
     "data": {
      "image/png": "[encoded data removed]",
      "text/plain": [
       "<Figure size 432x288 with 1 Axes>"
      ]
     },
     "metadata": {
      "needs_background": "light"
     },
     "output_type": "display_data"
    }
   ],
   "source": [
    "sns.scatterplot(x=p_h['house'],y=p_h['ln_p'])\n",
    "plt.show()"
   ]
  },
  {
   "cell_type": "code",
   "execution_count": 11,
   "metadata": {},
   "outputs": [
    {
     "data": {
      "image/png": "[encoded data removed]",
      "text/plain": [
       "<Figure size 432x288 with 1 Axes>"
      ]
     },
     "metadata": {
      "needs_background": "light"
     },
     "output_type": "display_data"
    }
   ],
   "source": [
    "sns.scatterplot(x=p_h['ln_h'],y=p_h['ln_p'])\n",
    "plt.show()"
   ]
  },
  {
   "cell_type": "code",
   "execution_count": 12,
   "metadata": {},
   "outputs": [
    {
     "data": {
      "image/png": "[encoded data removed]",
      "text/plain": [
       "<Figure size 432x288 with 1 Axes>"
      ]
     },
     "metadata": {
      "needs_background": "light"
     },
     "output_type": "display_data"
    }
   ],
   "source": [
    "sns.scatterplot(x=p_h['ln_h'],y=p_h['price'])\n",
    "plt.show()"
   ]
  },
  {
   "cell_type": "markdown",
   "metadata": {},
   "source": [
    "Все 4 модели имеют положительную корреляцию, самое наименьшее значение корреляции, вероятно, у 4 модели,  1 модель имеет очень большой разброс то есть R^2 у этой модели будет иметь,скорее всего, не очень большое значение, по сравнению с остальными, 2 модель больше похожа на логарифмическую зафисимость, что мы и делали, 3 модель, по сравнению с остальными имеет небольшой разброс точек, они достаточтно плотно расположены, вероятно, будет иметь самое большое значение R^2, 4 модель чем-то напоминает квадратичную зависимость, после значения 5 по Х, имет достаточно большой разброс  \n",
    "\n",
    "Из всех моделей, ближе всего напоминает линейную зависимсоть 3 модель"
   ]
  },
  {
   "cell_type": "code",
   "execution_count": 13,
   "metadata": {},
   "outputs": [
    {
     "name": "stdout",
     "output_type": "stream",
     "text": [
      "                            OLS Regression Results                            \n",
      "==============================================================================\n",
      "Dep. Variable:                  price   R-squared:                       0.454\n",
      "Model:                            OLS   Adj. R-squared:                  0.443\n",
      "Method:                 Least Squares   F-statistic:                     20.68\n",
      "Date:                Thu, 28 Nov 2019   Prob (F-statistic):           3.69e-05\n",
      "Time:                        22:34:52   Log-Likelihood:                -277.06\n",
      "No. Observations:                  50   AIC:                             558.1\n",
      "Df Residuals:                      48   BIC:                             561.9\n",
      "Df Model:                           1                                         \n",
      "Covariance Type:                  HC0                                         \n",
      "==============================================================================\n",
      "                 coef    std err          z      P>|z|      [0.025      0.975]\n",
      "------------------------------------------------------------------------------\n",
      "const          6.3103     10.036      0.629      0.530     -13.360      25.981\n",
      "house          0.3742      0.082      4.548      0.000       0.213       0.535\n",
      "==============================================================================\n",
      "Omnibus:                       13.580   Durbin-Watson:                   1.614\n",
      "Prob(Omnibus):                  0.001   Jarque-Bera (JB):               16.157\n",
      "Skew:                           0.995   Prob(JB):                     0.000310\n",
      "Kurtosis:                       4.948   Cond. No.                         396.\n",
      "==============================================================================\n",
      "\n",
      "Warnings:\n",
      "[1] Standard Errors are heteroscedasticity robust (HC0)\n"
     ]
    }
   ],
   "source": [
    "#5\n",
    "from statsmodels.regression.linear_model import OLS\n",
    "model = OLS(p_h['price'],sm.add_constant(p_h['house']))\n",
    "result = model.fit(cov_type='HC0') \n",
    "print(result.summary())"
   ]
  },
  {
   "cell_type": "code",
   "execution_count": 14,
   "metadata": {},
   "outputs": [
    {
     "name": "stdout",
     "output_type": "stream",
     "text": [
      "                            OLS Regression Results                            \n",
      "==============================================================================\n",
      "Dep. Variable:                  price   R-squared:                       0.454\n",
      "Model:                            OLS   Adj. R-squared:                  0.443\n",
      "Method:                 Least Squares   F-statistic:                     39.90\n",
      "Date:                Thu, 28 Nov 2019   Prob (F-statistic):           8.22e-08\n",
      "Time:                        22:34:52   Log-Likelihood:                -277.06\n",
      "No. Observations:                  50   AIC:                             558.1\n",
      "Df Residuals:                      48   BIC:                             561.9\n",
      "Df Model:                           1                                         \n",
      "Covariance Type:            nonrobust                                         \n",
      "==============================================================================\n",
      "                 coef    std err          t      P>|t|      [0.025      0.975]\n",
      "------------------------------------------------------------------------------\n",
      "const          6.3103     14.458      0.436      0.664     -22.759      35.380\n",
      "house          0.3742      0.059      6.316      0.000       0.255       0.493\n",
      "==============================================================================\n",
      "Omnibus:                       13.580   Durbin-Watson:                   1.614\n",
      "Prob(Omnibus):                  0.001   Jarque-Bera (JB):               16.157\n",
      "Skew:                           0.995   Prob(JB):                     0.000310\n",
      "Kurtosis:                       4.948   Cond. No.                         396.\n",
      "==============================================================================\n",
      "\n",
      "Warnings:\n",
      "[1] Standard Errors assume that the covariance matrix of the errors is correctly specified.\n"
     ]
    }
   ],
   "source": [
    "from statsmodels.regression.linear_model import OLS\n",
    "model = OLS(p_h['price'],sm.add_constant(p_h['house']))\n",
    "result = model.fit() \n",
    "print(result.summary())"
   ]
  },
  {
   "cell_type": "markdown",
   "metadata": {},
   "source": [
    "Стандартная ошибка для B1 0,082 при гетероскедостичности и 0,059 при гомоскедостичности, на 5% уровне значимости при гетероскедостичности гипотеза H0 для коэффициента В1 отвергается(H0:B1=0), в пользу Н1(H1:B1!=0), аналогично и для гомоскедостичности. \n",
    "2) F статистика имеет разные значения, но в обоих случаях отвергается гипотеза H0 (что все беты в модели равны 0) в пользу H1 на 5% уровне значимсоти при прочих равных."
   ]
  },
  {
   "cell_type": "markdown",
   "metadata": {},
   "source": [
    "1)на 5% уровне значимости для коэффициента B0 гипотеза H0 не отвергается=> B0 незначимые коэффициент, что касается B1, то гипотеза H0 отвергается в пользу H1, B1 ялвяется значимым, трактовать можно только значимые коэффициенты. на 5% уровне значимости при увеличении площади на 1 кв м, стоимость дома увеличивается на 0.37 в тысячах долларах, при прочих равных в среднем. Число наблюдений 50 и степеней свободы 48. "
   ]
  },
  {
   "cell_type": "code",
   "execution_count": 15,
   "metadata": {},
   "outputs": [
    {
     "name": "stdout",
     "output_type": "stream",
     "text": [
      "                            OLS Regression Results                            \n",
      "==============================================================================\n",
      "Dep. Variable:                   ln_p   R-squared:                       0.595\n",
      "Model:                            OLS   Adj. R-squared:                  0.587\n",
      "Method:                 Least Squares   F-statistic:                     46.92\n",
      "Date:                Thu, 28 Nov 2019   Prob (F-statistic):           1.25e-08\n",
      "Time:                        22:34:53   Log-Likelihood:                -54.589\n",
      "No. Observations:                  50   AIC:                             113.2\n",
      "Df Residuals:                      48   BIC:                             117.0\n",
      "Df Model:                           1                                         \n",
      "Covariance Type:                  HC0                                         \n",
      "==============================================================================\n",
      "                 coef    std err          z      P>|z|      [0.025      0.975]\n",
      "------------------------------------------------------------------------------\n",
      "const          2.6663      0.171     15.564      0.000       2.331       3.002\n",
      "house          0.0058      0.001      6.850      0.000       0.004       0.007\n",
      "==============================================================================\n",
      "Omnibus:                        0.597   Durbin-Watson:                   1.912\n",
      "Prob(Omnibus):                  0.742   Jarque-Bera (JB):                0.674\n",
      "Skew:                          -0.024   Prob(JB):                        0.714\n",
      "Kurtosis:                       2.433   Cond. No.                         396.\n",
      "==============================================================================\n",
      "\n",
      "Warnings:\n",
      "[1] Standard Errors are heteroscedasticity robust (HC0)\n"
     ]
    }
   ],
   "source": [
    "#7 ln price , house\n",
    "model = OLS(p_h['ln_p'] , sm.add_constant(p_h['house']))\n",
    "result = model.fit(cov_type='HC0') \n",
    "print(result.summary())"
   ]
  },
  {
   "cell_type": "code",
   "execution_count": 16,
   "metadata": {},
   "outputs": [
    {
     "name": "stdout",
     "output_type": "stream",
     "text": [
      "                            OLS Regression Results                            \n",
      "==============================================================================\n",
      "Dep. Variable:                   ln_p   R-squared:                       0.762\n",
      "Model:                            OLS   Adj. R-squared:                  0.757\n",
      "Method:                 Least Squares   F-statistic:                     156.0\n",
      "Date:                Thu, 28 Nov 2019   Prob (F-statistic):           1.07e-16\n",
      "Time:                        22:34:53   Log-Likelihood:                -41.313\n",
      "No. Observations:                  50   AIC:                             86.63\n",
      "Df Residuals:                      48   BIC:                             90.45\n",
      "Df Model:                           1                                         \n",
      "Covariance Type:                  HC0                                         \n",
      "==============================================================================\n",
      "                 coef    std err          z      P>|z|      [0.025      0.975]\n",
      "------------------------------------------------------------------------------\n",
      "const         -1.6815      0.415     -4.049      0.000      -2.495      -0.868\n",
      "ln_h           1.1144      0.089     12.492      0.000       0.940       1.289\n",
      "==============================================================================\n",
      "Omnibus:                        2.157   Durbin-Watson:                   1.659\n",
      "Prob(Omnibus):                  0.340   Jarque-Bera (JB):                1.329\n",
      "Skew:                           0.053   Prob(JB):                        0.515\n",
      "Kurtosis:                       2.208   Cond. No.                         29.1\n",
      "==============================================================================\n",
      "\n",
      "Warnings:\n",
      "[1] Standard Errors are heteroscedasticity robust (HC0)\n"
     ]
    }
   ],
   "source": [
    "# ln price, ln house \n",
    "model = OLS(p_h['ln_p'],sm.add_constant(p_h['ln_h']))\n",
    "result = model.fit(cov_type='HC0') \n",
    "print(result.summary())"
   ]
  },
  {
   "cell_type": "code",
   "execution_count": 17,
   "metadata": {},
   "outputs": [
    {
     "name": "stdout",
     "output_type": "stream",
     "text": [
      "                            OLS Regression Results                            \n",
      "==============================================================================\n",
      "Dep. Variable:                  price   R-squared:                       0.475\n",
      "Model:                            OLS   Adj. R-squared:                  0.464\n",
      "Method:                 Least Squares   F-statistic:                     36.40\n",
      "Date:                Thu, 28 Nov 2019   Prob (F-statistic):           2.23e-07\n",
      "Time:                        22:34:54   Log-Likelihood:                -276.10\n",
      "No. Observations:                  50   AIC:                             556.2\n",
      "Df Residuals:                      48   BIC:                             560.0\n",
      "Df Model:                           1                                         \n",
      "Covariance Type:                  HC0                                         \n",
      "==============================================================================\n",
      "                 coef    std err          z      P>|z|      [0.025      0.975]\n",
      "------------------------------------------------------------------------------\n",
      "const       -239.4924     45.565     -5.256      0.000    -328.799    -150.186\n",
      "ln_h          64.7781     10.737      6.033      0.000      43.734      85.822\n",
      "==============================================================================\n",
      "Omnibus:                       15.953   Durbin-Watson:                   1.668\n",
      "Prob(Omnibus):                  0.000   Jarque-Bera (JB):               18.743\n",
      "Skew:                           1.222   Prob(JB):                     8.51e-05\n",
      "Kurtosis:                       4.738   Cond. No.                         29.1\n",
      "==============================================================================\n",
      "\n",
      "Warnings:\n",
      "[1] Standard Errors are heteroscedasticity robust (HC0)\n"
     ]
    }
   ],
   "source": [
    "# price, ln house\n",
    "model = OLS(p_h['price'],sm.add_constant(p_h['ln_h']))\n",
    "result = model.fit(cov_type='HC0') \n",
    "print(result.summary())"
   ]
  },
  {
   "cell_type": "markdown",
   "metadata": {},
   "source": [
    "Самое большое значение adj R^2 имеет 2 модель ln_price, ln_house, у всех моделей F-statics имеет высокое значение, значит гипотеза о том, что все коэффициенты = 0 отвергается, так же у 2 модели самый хороший показатель по AIC BIC, то есть самый маленький, 86 и 90 соответственно. При этом у 2 модели хороший показатель в st error, по сравнению с 3, где очень большие значения. На 5% уровне значимости во всех моделях коэффициенты B0 и B1 значимы.\n",
    "1) при увеличении площади дома на 1 кв м, стоимость дома увеличивается на (e^0.0058-1)*100% = 0.58% при прочих равных в среднем\n",
    "2) при увеличении площади дома на 1%, стоимость увеличивается на 0.0058% при прочих равных в среднем\n",
    "3) при увеличении площади дома на 1%, стоимость увеличивается на 0.000058 тыс. доллар при прочих равных в среднем"
   ]
  },
  {
   "cell_type": "code",
   "execution_count": 18,
   "metadata": {},
   "outputs": [],
   "source": [
    "#8\n",
    "model = OLS(p_h['ln_p'], sm.add_constant(p_h['ln_h']))\n",
    "result = model.fit(cov_type='HC0')\n",
    "\n",
    "prediction = result.get_prediction(sm.add_constant(p_h['ln_h']))\n",
    "mean = prediction.summary_frame()['mean']\n",
    "mean_ci_lower = prediction.summary_frame()['mean_ci_lower']\n",
    "mean_ci_upper = prediction.summary_frame()['mean_ci_upper']"
   ]
  },
  {
   "cell_type": "code",
   "execution_count": 19,
   "metadata": {},
   "outputs": [
    {
     "data": {
      "image/png": "[encoded data removed]",
      "text/plain": [
       "<Figure size 432x288 with 1 Axes>"
      ]
     },
     "metadata": {
      "needs_background": "light"
     },
     "output_type": "display_data"
    }
   ],
   "source": [
    "x=p_h['ln_h']\n",
    "y=mean_ci_lower\n",
    "y1=mean_ci_upper\n",
    "\n",
    "sns.scatterplot(x,y=p_h['ln_p'],color='k')\n",
    "plt.plot(x, mean , color = 'blue')\n",
    "plt.fill_between(x.sort_values(),y.sort_values(),y1.sort_values(),color='orange',alpha=0.3)\n",
    "plt.xlabel('ln house')\n",
    "plt.ylabel(\"ln price\")\n",
    "plt.show()"
   ]
  },
  {
   "cell_type": "markdown",
   "metadata": {},
   "source": [
    "Выбрал 2 модель из 7 пункта, так как значение adj R^2 имеет хорошее значение, по сравнению с другими моделями, так же по значениям AIC BIC имеет самое минимальное значение, по отношение к другим"
   ]
  },
  {
   "cell_type": "code",
   "execution_count": 20,
   "metadata": {},
   "outputs": [],
   "source": [
    "#2_1\n",
    "df2=pd.read_csv(\"expend.csv\")"
   ]
  },
  {
   "cell_type": "code",
   "execution_count": 32,
   "metadata": {},
   "outputs": [
    {
     "data": {
      "text/plain": [
       "array([3.09104245, 3.58351894, 3.58351894, 3.58351894, 3.58351894,\n",
       "       3.58351894, 3.8286414 , 3.8286414 , 4.02535169, 4.02535169,\n",
       "       4.09434456, 4.09434456, 4.09434456, 4.17438727, 4.17438727,\n",
       "       4.24849524, 4.35670883, 4.38202663, 4.38202663, 4.44265126,\n",
       "       4.49980967, 4.60517019, 4.86753445, 4.86753445, 5.01063529,\n",
       "       5.13579844, 5.13579844, 5.13579844, 5.19295685, 5.29831737,\n",
       "       5.29831737, 5.34710753, 5.42934563, 5.52146092, 5.65248918,\n",
       "       5.70378247, 5.70378247, 5.70378247, 5.70378247, 5.768321  ,\n",
       "       5.85793315, 5.85793315, 5.85793315, 5.91350301, 5.99146455,\n",
       "       6.04025471, 6.10924758, 6.2146081 , 6.27287701, 6.39692966])"
      ]
     },
     "execution_count": 32,
     "metadata": {},
     "output_type": "execute_result"
    }
   ],
   "source": [
    "np.sort(np.array(x))"
   ]
  },
  {
   "cell_type": "code",
   "execution_count": 21,
   "metadata": {},
   "outputs": [
    {
     "data": {
      "text/html": [
       "<div>\n",
       "<style scoped>\n",
       "    .dataframe tbody tr th:only-of-type {\n",
       "        vertical-align: middle;\n",
       "    }\n",
       "\n",
       "    .dataframe tbody tr th {\n",
       "        vertical-align: top;\n",
       "    }\n",
       "\n",
       "    .dataframe thead th {\n",
       "        text-align: right;\n",
       "    }\n",
       "</style>\n",
       "<table border=\"1\" class=\"dataframe\">\n",
       "  <thead>\n",
       "    <tr style=\"text-align: right;\">\n",
       "      <th></th>\n",
       "      <th>tot3</th>\n",
       "      <th>f3</th>\n",
       "    </tr>\n",
       "  </thead>\n",
       "  <tbody>\n",
       "    <tr>\n",
       "      <th>count</th>\n",
       "      <td>427.0000</td>\n",
       "      <td>427.0000</td>\n",
       "    </tr>\n",
       "    <tr>\n",
       "      <th>mean</th>\n",
       "      <td>35762.8059</td>\n",
       "      <td>6890.8819</td>\n",
       "    </tr>\n",
       "    <tr>\n",
       "      <th>std</th>\n",
       "      <td>18053.3135</td>\n",
       "      <td>2745.7483</td>\n",
       "    </tr>\n",
       "    <tr>\n",
       "      <th>min</th>\n",
       "      <td>8728.8603</td>\n",
       "      <td>883.9856</td>\n",
       "    </tr>\n",
       "    <tr>\n",
       "      <th>25%</th>\n",
       "      <td>23189.4650</td>\n",
       "      <td>4946.0914</td>\n",
       "    </tr>\n",
       "    <tr>\n",
       "      <th>50%</th>\n",
       "      <td>31847.1185</td>\n",
       "      <td>6838.4314</td>\n",
       "    </tr>\n",
       "    <tr>\n",
       "      <th>75%</th>\n",
       "      <td>44050.5167</td>\n",
       "      <td>8788.3583</td>\n",
       "    </tr>\n",
       "    <tr>\n",
       "      <th>max</th>\n",
       "      <td>124564.1872</td>\n",
       "      <td>17270.7470</td>\n",
       "    </tr>\n",
       "  </tbody>\n",
       "</table>\n",
       "</div>"
      ],
      "text/plain": [
       "             tot3         f3\n",
       "count    427.0000   427.0000\n",
       "mean   35762.8059  6890.8819\n",
       "std    18053.3135  2745.7483\n",
       "min     8728.8603   883.9856\n",
       "25%    23189.4650  4946.0914\n",
       "50%    31847.1185  6838.4314\n",
       "75%    44050.5167  8788.3583\n",
       "max   124564.1872 17270.7470"
      ]
     },
     "execution_count": 21,
     "metadata": {},
     "output_type": "execute_result"
    }
   ],
   "source": [
    "#2_2\n",
    "df2=df2[['tot3','f3']]\n",
    "df2.describe()"
   ]
  },
  {
   "cell_type": "code",
   "execution_count": 22,
   "metadata": {},
   "outputs": [],
   "source": [
    "#2_3\n",
    "df2['ln_tot3']=df2['tot3'].map(lambda x: np.log(x))\n",
    "df2['ln_f3']=df2['f3'].map(lambda x: np.log(x))"
   ]
  },
  {
   "cell_type": "code",
   "execution_count": 23,
   "metadata": {},
   "outputs": [
    {
     "data": {
      "text/html": [
       "<div>\n",
       "<style scoped>\n",
       "    .dataframe tbody tr th:only-of-type {\n",
       "        vertical-align: middle;\n",
       "    }\n",
       "\n",
       "    .dataframe tbody tr th {\n",
       "        vertical-align: top;\n",
       "    }\n",
       "\n",
       "    .dataframe thead th {\n",
       "        text-align: right;\n",
       "    }\n",
       "</style>\n",
       "<table border=\"1\" class=\"dataframe\">\n",
       "  <thead>\n",
       "    <tr style=\"text-align: right;\">\n",
       "      <th></th>\n",
       "      <th>tot3</th>\n",
       "      <th>f3</th>\n",
       "      <th>ln_tot3</th>\n",
       "      <th>ln_f3</th>\n",
       "    </tr>\n",
       "  </thead>\n",
       "  <tbody>\n",
       "    <tr>\n",
       "      <th>count</th>\n",
       "      <td>427.0000</td>\n",
       "      <td>427.0000</td>\n",
       "      <td>427.0000</td>\n",
       "      <td>427.0000</td>\n",
       "    </tr>\n",
       "    <tr>\n",
       "      <th>mean</th>\n",
       "      <td>35762.8059</td>\n",
       "      <td>6890.8819</td>\n",
       "      <td>10.3689</td>\n",
       "      <td>8.7413</td>\n",
       "    </tr>\n",
       "    <tr>\n",
       "      <th>std</th>\n",
       "      <td>18053.3135</td>\n",
       "      <td>2745.7483</td>\n",
       "      <td>0.4838</td>\n",
       "      <td>0.4759</td>\n",
       "    </tr>\n",
       "    <tr>\n",
       "      <th>min</th>\n",
       "      <td>8728.8603</td>\n",
       "      <td>883.9856</td>\n",
       "      <td>9.0744</td>\n",
       "      <td>6.7844</td>\n",
       "    </tr>\n",
       "    <tr>\n",
       "      <th>25%</th>\n",
       "      <td>23189.4650</td>\n",
       "      <td>4946.0914</td>\n",
       "      <td>10.0515</td>\n",
       "      <td>8.5063</td>\n",
       "    </tr>\n",
       "    <tr>\n",
       "      <th>50%</th>\n",
       "      <td>31847.1185</td>\n",
       "      <td>6838.4314</td>\n",
       "      <td>10.3687</td>\n",
       "      <td>8.8303</td>\n",
       "    </tr>\n",
       "    <tr>\n",
       "      <th>75%</th>\n",
       "      <td>44050.5167</td>\n",
       "      <td>8788.3583</td>\n",
       "      <td>10.6931</td>\n",
       "      <td>9.0812</td>\n",
       "    </tr>\n",
       "    <tr>\n",
       "      <th>max</th>\n",
       "      <td>124564.1872</td>\n",
       "      <td>17270.7470</td>\n",
       "      <td>11.7326</td>\n",
       "      <td>9.7568</td>\n",
       "    </tr>\n",
       "  </tbody>\n",
       "</table>\n",
       "</div>"
      ],
      "text/plain": [
       "             tot3         f3  ln_tot3    ln_f3\n",
       "count    427.0000   427.0000 427.0000 427.0000\n",
       "mean   35762.8059  6890.8819  10.3689   8.7413\n",
       "std    18053.3135  2745.7483   0.4838   0.4759\n",
       "min     8728.8603   883.9856   9.0744   6.7844\n",
       "25%    23189.4650  4946.0914  10.0515   8.5063\n",
       "50%    31847.1185  6838.4314  10.3687   8.8303\n",
       "75%    44050.5167  8788.3583  10.6931   9.0812\n",
       "max   124564.1872 17270.7470  11.7326   9.7568"
      ]
     },
     "execution_count": 23,
     "metadata": {},
     "output_type": "execute_result"
    }
   ],
   "source": [
    "df2.describe()"
   ]
  },
  {
   "cell_type": "code",
   "execution_count": 24,
   "metadata": {},
   "outputs": [
    {
     "name": "stdout",
     "output_type": "stream",
     "text": [
      "                            OLS Regression Results                            \n",
      "==============================================================================\n",
      "Dep. Variable:                  ln_f3   R-squared:                       0.312\n",
      "Model:                            OLS   Adj. R-squared:                  0.310\n",
      "Method:                 Least Squares   F-statistic:                     163.3\n",
      "Date:                Thu, 28 Nov 2019   Prob (F-statistic):           7.16e-32\n",
      "Time:                        22:34:57   Log-Likelihood:                -208.53\n",
      "No. Observations:                 427   AIC:                             421.1\n",
      "Df Residuals:                     425   BIC:                             429.2\n",
      "Df Model:                           1                                         \n",
      "Covariance Type:                  HC0                                         \n",
      "==============================================================================\n",
      "                 coef    std err          z      P>|z|      [0.025      0.975]\n",
      "------------------------------------------------------------------------------\n",
      "const          3.0466      0.449      6.781      0.000       2.166       3.927\n",
      "ln_tot3        0.5492      0.043     12.779      0.000       0.465       0.633\n",
      "==============================================================================\n",
      "Omnibus:                       95.595   Durbin-Watson:                   2.007\n",
      "Prob(Omnibus):                  0.000   Jarque-Bera (JB):              224.895\n",
      "Skew:                          -1.128   Prob(JB):                     1.46e-49\n",
      "Kurtosis:                       5.748   Cond. No.                         225.\n",
      "==============================================================================\n",
      "\n",
      "Warnings:\n",
      "[1] Standard Errors are heteroscedasticity robust (HC0)\n"
     ]
    }
   ],
   "source": [
    "#4\n",
    "model = OLS(df2.ln_f3, sm.add_constant(df2.ln_tot3))\n",
    "result = model.fit(cov_type='HC0') \n",
    "print(result.summary())"
   ]
  },
  {
   "cell_type": "markdown",
   "metadata": {},
   "source": [
    "на 5% уровне значимости коэффициент B1 является значимым, трактовать можно только значимые коэффициенты\n",
    "на 5% уровне значимости при увеличении расходов в голландских гульденов на 1%, расходы на питание в семье в голандских гульденах увеличиваются на 0.54%, стандартная ошибка не имеет очень относительно большое значение p value = 0, Гипотеза H0 отвергается для B0=0 в пользу H1 где B0!=0, так как z статистика не попадает в интервал H0 на 5% уровне значимости."
   ]
  },
  {
   "cell_type": "code",
   "execution_count": 35,
   "metadata": {},
   "outputs": [
    {
     "name": "stdout",
     "output_type": "stream",
     "text": [
      "                             Test for Constraints                             \n",
      "==============================================================================\n",
      "                 coef    std err          z      P>|z|      [0.025      0.975]\n",
      "------------------------------------------------------------------------------\n",
      "c0             0.5492      0.043      1.145      0.252       0.465       0.633\n",
      "==============================================================================\n",
      "                             Test for Constraints                             \n",
      "==============================================================================\n",
      "                 coef    std err          z      P>|z|       [0.05       0.95]\n",
      "------------------------------------------------------------------------------\n",
      "c0             0.5492      0.043      1.145      0.252       0.479       0.620\n",
      "==============================================================================\n"
     ]
    }
   ],
   "source": [
    "#5\n",
    "model = OLS(df2.ln_f3, sm.add_constant(df2.ln_tot3))\n",
    "results = model.fit(cov_type='HC0')\n",
    "tt=results.t_test('ln_tot3 =0.5')\n",
    "print(tt.summary(alpha=0.05))\n",
    "print(tt.summary(alpha=0.1))"
   ]
  },
  {
   "cell_type": "markdown",
   "metadata": {},
   "source": [
    "при этом тесте тестируется гипотеза H0: b1=0.5, альтернативная гипотеза Б1!=0.5, при этом гипотеза в обоих случаях отвергается на 5% и 10% уровне значимости, так как z-статистика не попадает в интервал(2 правых значения интервала)"
   ]
  },
  {
   "cell_type": "code",
   "execution_count": 37,
   "metadata": {},
   "outputs": [
    {
     "data": {
      "text/plain": [
       "array([[1.14509293]])"
      ]
     },
     "execution_count": 37,
     "metadata": {},
     "output_type": "execute_result"
    }
   ],
   "source": [
    "#6\n",
    "tt.tvalue()"
   ]
  },
  {
   "cell_type": "code",
   "execution_count": null,
   "metadata": {},
   "outputs": [],
   "source": []
  }
 ],
 "metadata": {
  "kernelspec": {
   "display_name": "Python 3",
   "language": "python",
   "name": "python3"
  },
  "language_info": {
   "codemirror_mode": {
    "name": "ipython",
    "version": 3
   },
   "file_extension": ".py",
   "mimetype": "text/x-python",
   "name": "python",
   "nbconvert_exporter": "python",
   "pygments_lexer": "ipython3",
   "version": "3.7.6"
  }
 },
 "nbformat": 4,
 "nbformat_minor": 4
}
