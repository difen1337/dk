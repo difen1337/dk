{
 "cells": [
  {
   "cell_type": "code",
   "execution_count": 40,
   "metadata": {},
   "outputs": [
    {
     "name": "stdout",
     "output_type": "stream",
     "text": [
      "CPU times: user 1.37 ms, sys: 163 µs, total: 1.53 ms\n",
      "Wall time: 1.48 ms\n"
     ]
    }
   ],
   "source": [
    "%%time\n",
    "import pandas as pd\n",
    "import numpy as np\n",
    "import matplotlib.pylab as plt\n",
    "import seaborn as sns\n",
    "import statsmodels.api as sm\n",
    "import scipy.stats as sci\n",
    "from statsmodels.regression.linear_model import OLS\n",
    "\n",
    "\n",
    "pd.set_option('float_format', '{:6.5f}'.format)\n",
    "sns.set(style='ticks')\n",
    "\n",
    "import warnings\n",
    "warnings.filterwarnings(\"ignore\")\n"
   ]
  },
  {
   "cell_type": "code",
   "execution_count": 4,
   "metadata": {},
   "outputs": [],
   "source": [
    "df=pd.read_csv('wifi.txt',sep='\\t')"
   ]
  },
  {
   "cell_type": "code",
   "execution_count": 5,
   "metadata": {},
   "outputs": [
    {
     "data": {
      "text/html": [
       "<div>\n",
       "<style scoped>\n",
       "    .dataframe tbody tr th:only-of-type {\n",
       "        vertical-align: middle;\n",
       "    }\n",
       "\n",
       "    .dataframe tbody tr th {\n",
       "        vertical-align: top;\n",
       "    }\n",
       "\n",
       "    .dataframe thead th {\n",
       "        text-align: right;\n",
       "    }\n",
       "</style>\n",
       "<table border=\"1\" class=\"dataframe\">\n",
       "  <thead>\n",
       "    <tr style=\"text-align: right;\">\n",
       "      <th></th>\n",
       "      <th>AP1</th>\n",
       "      <th>AP2</th>\n",
       "      <th>AP3</th>\n",
       "      <th>AP4</th>\n",
       "      <th>AP5</th>\n",
       "      <th>AP6</th>\n",
       "      <th>AP7</th>\n",
       "      <th>Room</th>\n",
       "    </tr>\n",
       "  </thead>\n",
       "  <tbody>\n",
       "    <tr>\n",
       "      <th>0</th>\n",
       "      <td>-64</td>\n",
       "      <td>-56</td>\n",
       "      <td>-61</td>\n",
       "      <td>-66</td>\n",
       "      <td>-71</td>\n",
       "      <td>-82</td>\n",
       "      <td>-81</td>\n",
       "      <td>1</td>\n",
       "    </tr>\n",
       "    <tr>\n",
       "      <th>1</th>\n",
       "      <td>-68</td>\n",
       "      <td>-57</td>\n",
       "      <td>-61</td>\n",
       "      <td>-65</td>\n",
       "      <td>-71</td>\n",
       "      <td>-85</td>\n",
       "      <td>-85</td>\n",
       "      <td>1</td>\n",
       "    </tr>\n",
       "    <tr>\n",
       "      <th>2</th>\n",
       "      <td>-63</td>\n",
       "      <td>-60</td>\n",
       "      <td>-60</td>\n",
       "      <td>-67</td>\n",
       "      <td>-76</td>\n",
       "      <td>-85</td>\n",
       "      <td>-84</td>\n",
       "      <td>1</td>\n",
       "    </tr>\n",
       "    <tr>\n",
       "      <th>3</th>\n",
       "      <td>-61</td>\n",
       "      <td>-60</td>\n",
       "      <td>-68</td>\n",
       "      <td>-62</td>\n",
       "      <td>-77</td>\n",
       "      <td>-90</td>\n",
       "      <td>-80</td>\n",
       "      <td>1</td>\n",
       "    </tr>\n",
       "    <tr>\n",
       "      <th>4</th>\n",
       "      <td>-63</td>\n",
       "      <td>-65</td>\n",
       "      <td>-60</td>\n",
       "      <td>-63</td>\n",
       "      <td>-77</td>\n",
       "      <td>-81</td>\n",
       "      <td>-87</td>\n",
       "      <td>1</td>\n",
       "    </tr>\n",
       "  </tbody>\n",
       "</table>\n",
       "</div>"
      ],
      "text/plain": [
       "   AP1  AP2  AP3  AP4  AP5  AP6  AP7  Room\n",
       "0  -64  -56  -61  -66  -71  -82  -81     1\n",
       "1  -68  -57  -61  -65  -71  -85  -85     1\n",
       "2  -63  -60  -60  -67  -76  -85  -84     1\n",
       "3  -61  -60  -68  -62  -77  -90  -80     1\n",
       "4  -63  -65  -60  -63  -77  -81  -87     1"
      ]
     },
     "execution_count": 5,
     "metadata": {},
     "output_type": "execute_result"
    }
   ],
   "source": [
    "df.head()"
   ]
  },
  {
   "cell_type": "code",
   "execution_count": 6,
   "metadata": {},
   "outputs": [],
   "source": [
    "X = df[['AP1','AP2','AP3','AP4','AP5','AP6','AP7']]\n",
    "y = df['Room']"
   ]
  },
  {
   "cell_type": "code",
   "execution_count": 7,
   "metadata": {},
   "outputs": [],
   "source": [
    "from sklearn.model_selection import train_test_split\n",
    "\n",
    "X_train, X_test, y_train, y_test = train_test_split(X, y, test_size=0.25, random_state=1, stratify = y)"
   ]
  },
  {
   "cell_type": "code",
   "execution_count": 121,
   "metadata": {},
   "outputs": [
    {
     "name": "stdout",
     "output_type": "stream",
     "text": [
      "best_test_error: 0.02400000000000002 best_max_leaf: 38\n"
     ]
    }
   ],
   "source": [
    "#2\n",
    "\n",
    "from sklearn.tree import DecisionTreeClassifier\n",
    "from sklearn.tree.export import export_text\n",
    "\n",
    "error_tree = pd.DataFrame(columns = ['T','error_is','error_oos'])\n",
    "best_test_error = None \n",
    "best_max_leaf = None\n",
    "\n",
    "for i in range(2,51):\n",
    "    dt = DecisionTreeClassifier(random_state=None, max_leaf_nodes=i)\n",
    "    dt = dt.fit(X_train, y_train)\n",
    "    error_tree = error_tree.append({'T':i, 'error_is': 1 - dt.score(X_train,y_train),\n",
    "                                   'error_oos': 1 - dt.score(X_test,y_test)},ignore_index = True)\n",
    "    \n",
    "    if best_test_error is None:                          # to find the best t where the test error is minimal\n",
    "        best_test_error = 1 - dt.score(X_test,y_test)\n",
    "    elif best_test_error > 1 - dt.score(X_test,y_test):\n",
    "        best_test_error = 1 - dt.score(X_test,y_test)\n",
    "        best_max_leaf = i\n",
    "\n",
    "print('best_test_error:',best_test_error,'best_max_leaf:',best_max_leaf)"
   ]
  },
  {
   "cell_type": "code",
   "execution_count": 122,
   "metadata": {
    "scrolled": true
   },
   "outputs": [
    {
     "name": "stdout",
     "output_type": "stream",
     "text": [
      "|--- AP1 <= -54.50\n",
      "|   |--- AP5 <= -59.50\n",
      "|   |   |--- AP4 <= -55.50\n",
      "|   |   |   |--- AP3 <= -50.50\n",
      "|   |   |   |   |--- AP5 <= -61.50\n",
      "|   |   |   |   |   |--- AP3 <= -52.00\n",
      "|   |   |   |   |   |   |--- class: 1\n",
      "|   |   |   |   |   |--- AP3 >  -52.00\n",
      "|   |   |   |   |   |   |--- AP7 <= -87.50\n",
      "|   |   |   |   |   |   |   |--- class: 3\n",
      "|   |   |   |   |   |   |--- AP7 >  -87.50\n",
      "|   |   |   |   |   |   |   |--- class: 1\n",
      "|   |   |   |   |--- AP5 >  -61.50\n",
      "|   |   |   |   |   |--- AP6 <= -82.00\n",
      "|   |   |   |   |   |   |--- class: 4\n",
      "|   |   |   |   |   |--- AP6 >  -82.00\n",
      "|   |   |   |   |   |   |--- class: 1\n",
      "|   |   |   |--- AP3 >  -50.50\n",
      "|   |   |   |   |--- AP2 <= -53.00\n",
      "|   |   |   |   |   |--- class: 4\n",
      "|   |   |   |   |--- AP2 >  -53.00\n",
      "|   |   |   |   |   |--- class: 1\n",
      "|   |   |--- AP4 >  -55.50\n",
      "|   |   |   |--- AP2 <= -50.50\n",
      "|   |   |   |   |--- class: 3\n",
      "|   |   |   |--- AP2 >  -50.50\n",
      "|   |   |   |   |--- class: 1\n",
      "|   |--- AP5 >  -59.50\n",
      "|   |   |--- AP5 <= -56.50\n",
      "|   |   |   |--- AP7 <= -87.50\n",
      "|   |   |   |   |--- class: 3\n",
      "|   |   |   |--- AP7 >  -87.50\n",
      "|   |   |   |   |--- class: 4\n",
      "|   |   |--- AP5 >  -56.50\n",
      "|   |   |   |--- class: 4\n",
      "|--- AP1 >  -54.50\n",
      "|   |--- AP1 <= -44.50\n",
      "|   |   |--- AP5 <= -70.50\n",
      "|   |   |   |--- AP4 <= -49.50\n",
      "|   |   |   |   |--- class: 3\n",
      "|   |   |   |--- AP4 >  -49.50\n",
      "|   |   |   |   |--- AP2 <= -58.50\n",
      "|   |   |   |   |   |--- AP4 <= -44.50\n",
      "|   |   |   |   |   |   |--- class: 3\n",
      "|   |   |   |   |   |--- AP4 >  -44.50\n",
      "|   |   |   |   |   |   |--- class: 2\n",
      "|   |   |   |   |--- AP2 >  -58.50\n",
      "|   |   |   |   |   |--- class: 2\n",
      "|   |   |--- AP5 >  -70.50\n",
      "|   |   |   |--- AP4 <= -40.50\n",
      "|   |   |   |   |--- AP5 <= -52.50\n",
      "|   |   |   |   |   |--- AP7 <= -73.50\n",
      "|   |   |   |   |   |   |--- AP6 <= -74.50\n",
      "|   |   |   |   |   |   |   |--- AP3 <= -63.50\n",
      "|   |   |   |   |   |   |   |   |--- AP6 <= -83.50\n",
      "|   |   |   |   |   |   |   |   |   |--- class: 3\n",
      "|   |   |   |   |   |   |   |   |--- AP6 >  -83.50\n",
      "|   |   |   |   |   |   |   |   |   |--- class: 2\n",
      "|   |   |   |   |   |   |   |--- AP3 >  -63.50\n",
      "|   |   |   |   |   |   |   |   |--- AP3 <= -53.50\n",
      "|   |   |   |   |   |   |   |   |   |--- AP6 <= -77.50\n",
      "|   |   |   |   |   |   |   |   |   |   |--- AP4 <= -46.50\n",
      "|   |   |   |   |   |   |   |   |   |   |   |--- class: 3\n",
      "|   |   |   |   |   |   |   |   |   |   |--- AP4 >  -46.50\n",
      "|   |   |   |   |   |   |   |   |   |   |   |--- truncated branch of depth 3\n",
      "|   |   |   |   |   |   |   |   |   |--- AP6 >  -77.50\n",
      "|   |   |   |   |   |   |   |   |   |   |--- AP5 <= -68.00\n",
      "|   |   |   |   |   |   |   |   |   |   |   |--- class: 2\n",
      "|   |   |   |   |   |   |   |   |   |   |--- AP5 >  -68.00\n",
      "|   |   |   |   |   |   |   |   |   |   |   |--- truncated branch of depth 3\n",
      "|   |   |   |   |   |   |   |   |--- AP3 >  -53.50\n",
      "|   |   |   |   |   |   |   |   |   |--- class: 3\n",
      "|   |   |   |   |   |   |--- AP6 >  -74.50\n",
      "|   |   |   |   |   |   |   |--- AP5 <= -65.00\n",
      "|   |   |   |   |   |   |   |   |--- class: 2\n",
      "|   |   |   |   |   |   |   |--- AP5 >  -65.00\n",
      "|   |   |   |   |   |   |   |   |--- class: 3\n",
      "|   |   |   |   |   |--- AP7 >  -73.50\n",
      "|   |   |   |   |   |   |--- AP3 <= -52.50\n",
      "|   |   |   |   |   |   |   |--- class: 2\n",
      "|   |   |   |   |   |   |--- AP3 >  -52.50\n",
      "|   |   |   |   |   |   |   |--- class: 3\n",
      "|   |   |   |   |--- AP5 >  -52.50\n",
      "|   |   |   |   |   |--- class: 4\n",
      "|   |   |   |--- AP4 >  -40.50\n",
      "|   |   |   |   |--- class: 2\n",
      "|   |--- AP1 >  -44.50\n",
      "|   |   |--- AP4 <= -51.50\n",
      "|   |   |   |--- class: 3\n",
      "|   |   |--- AP4 >  -51.50\n",
      "|   |   |   |--- AP7 <= -85.50\n",
      "|   |   |   |   |--- AP4 <= -43.50\n",
      "|   |   |   |   |   |--- class: 3\n",
      "|   |   |   |   |--- AP4 >  -43.50\n",
      "|   |   |   |   |   |--- class: 2\n",
      "|   |   |   |--- AP7 >  -85.50\n",
      "|   |   |   |   |--- class: 2\n",
      "\n"
     ]
    }
   ],
   "source": [
    "\n",
    "dt = DecisionTreeClassifier(random_state=None, max_leaf_nodes = best_max_leaf)\n",
    "dt = dt.fit(X_train, y_train)\n",
    "tx = export_text(dt, feature_names=['AP1','AP2','AP3','AP4','AP5','AP6','AP7'])\n",
    "\n",
    "print(tx)"
   ]
  },
  {
   "cell_type": "code",
   "execution_count": 123,
   "metadata": {},
   "outputs": [
    {
     "data": {
      "text/plain": [
       "array([[[373,   2],\n",
       "        [  0, 125]],\n",
       "\n",
       "       [[370,   5],\n",
       "        [  6, 119]],\n",
       "\n",
       "       [[368,   7],\n",
       "        [  8, 117]],\n",
       "\n",
       "       [[373,   2],\n",
       "        [  2, 123]]])"
      ]
     },
     "execution_count": 123,
     "metadata": {},
     "output_type": "execute_result"
    }
   ],
   "source": [
    "# for the test sample\n",
    "from sklearn.metrics import multilabel_confusion_matrix\n",
    "multilabel_confusion_matrix(y_true = y_test, y_pred = dt.predict(X_test), labels = [1,2,3,4]) # confusion matrix"
   ]
  },
  {
   "cell_type": "code",
   "execution_count": 124,
   "metadata": {},
   "outputs": [
    {
     "data": {
      "text/plain": [
       "array([[[1125,    0],\n",
       "        [   0,  375]],\n",
       "\n",
       "       [[1125,    0],\n",
       "        [   2,  373]],\n",
       "\n",
       "       [[1123,    2],\n",
       "        [   0,  375]],\n",
       "\n",
       "       [[1125,    0],\n",
       "        [   0,  375]]])"
      ]
     },
     "execution_count": 124,
     "metadata": {},
     "output_type": "execute_result"
    }
   ],
   "source": [
    "# for the train sample\n",
    "multilabel_confusion_matrix(y_true = y_train, y_pred = dt.predict(X_train), labels = [1,2,3,4])"
   ]
  },
  {
   "cell_type": "code",
   "execution_count": 125,
   "metadata": {},
   "outputs": [
    {
     "data": {
      "image/png": "[encoded data removed]",
      "text/plain": [
       "<Figure size 1250x375 with 1 Axes>"
      ]
     },
     "metadata": {},
     "output_type": "display_data"
    }
   ],
   "source": [
    "plt.figure(figsize = (10,3), dpi = 125)\n",
    "plt.plot(error_tree['T'],1 - error_tree.error_is,'ro-', label = 'error is')\n",
    "plt.plot(error_tree['T'],1 - error_tree.error_oos, 'ko-', label = 'error oos')\n",
    "plt.xlabel('T')\n",
    "plt.legend();"
   ]
  },
  {
   "cell_type": "markdown",
   "metadata": {},
   "source": [
    "Trees can be overfitting if the number of leaf nodes is quite large relative to observations, because this method separates the area until each observation is inside of the own square. In our example, we might look at the plot and after the particular T (the number of the leafs) point the accuracy becomes equal to 1 on the train sample. However, the test sample accuracy is not equal to 1, it is a bit smaller. This is overfitting."
   ]
  },
  {
   "cell_type": "code",
   "execution_count": 133,
   "metadata": {},
   "outputs": [
    {
     "name": "stdout",
     "output_type": "stream",
     "text": [
      "best_oos: 0.02200000000000002 best_t: 35\n"
     ]
    },
    {
     "data": {
      "text/plain": [
       "array([[[374,   1],\n",
       "        [  0, 125]],\n",
       "\n",
       "       [[371,   4],\n",
       "        [  6, 119]],\n",
       "\n",
       "       [[368,   7],\n",
       "        [  5, 120]],\n",
       "\n",
       "       [[374,   1],\n",
       "        [  2, 123]]])"
      ]
     },
     "execution_count": 133,
     "metadata": {},
     "output_type": "execute_result"
    }
   ],
   "source": [
    "#3\n",
    "from sklearn.ensemble import BaggingClassifier\n",
    "\n",
    "best_oos = None\n",
    "best_t = None\n",
    "\n",
    "for i in range(2,51):                                                  # in this cycle we use different length of the tree and try to find \n",
    "    bgg = BaggingClassifier(DecisionTreeClassifier(max_leaf_nodes = i), # the best one where the error is minimal\n",
    "                        n_estimators = 1000,\n",
    "                        max_samples = 1500,\n",
    "                        bootstrap = True,\n",
    "                        n_jobs=-1)\n",
    "    bgg.fit(X_train,y_train)\n",
    "    \n",
    "    if best_oos is None:                                # to find the minimal error and the number of T\n",
    "        best_oos = 1 - bgg.score(X_test,y_test)\n",
    "    elif best_oos > 1 - bgg.score(X_test,y_test):\n",
    "        best_oos = 1 - bgg.score(X_test,y_test)\n",
    "        best_t = i\n",
    "\n",
    "print('best_oos:',best_oos,'best_t:',best_t)\n",
    "\n",
    "bgg = BaggingClassifier(DecisionTreeClassifier(max_leaf_nodes = best_t),\n",
    "                        n_estimators = 1000,\n",
    "                        max_samples = 1500,\n",
    "                        bootstrap = True,\n",
    "                        n_jobs=-1)\n",
    "bgg.fit(X_train,y_train)\n",
    "multilabel_confusion_matrix(y_true = y_test, y_pred = bgg.predict(X_test), labels = [1,2,3,4])  # confusion matrix fot the best model"
   ]
  },
  {
   "cell_type": "markdown",
   "metadata": {},
   "source": [
    "Begging helps to reduce variance. We computed many trees and then aggregate them. The test error usually decreases relative to a single tree. The same result we see here the test error is a bit lower than in the previous example. "
   ]
  },
  {
   "cell_type": "code",
   "execution_count": 130,
   "metadata": {},
   "outputs": [
    {
     "name": "stdout",
     "output_type": "stream",
     "text": [
      "best t: 32 best m: 3 best_test_error: 0.014000000000000012\n"
     ]
    }
   ],
   "source": [
    "#4\n",
    "from sklearn.ensemble import RandomForestClassifier \n",
    "random_forest = pd.DataFrame(columns = ['t','m','test_error'])\n",
    "best_t = None\n",
    "best_m = None\n",
    "best_test_error = None\n",
    "\n",
    "for t in range(2,51):\n",
    "    for m in range(1,7):                                # here we use 2 cycles because we have to use two parametres the tree length \n",
    "                                                        # and the number of the features in each step for constructing the tree\n",
    "        rf = RandomForestClassifier(n_estimators=1000,     \n",
    "                                    max_samples = 1500,\n",
    "                                    max_leaf_nodes= t,\n",
    "                                    max_features = m,\n",
    "                                    n_jobs=-1)\n",
    "        rf.fit(X_train,y_train)\n",
    "        \n",
    "        random_forest = random_forest.append({'t': t, \n",
    "                                              'm': m, \n",
    "                                              'test_error': 1 - rf.score(X_test,y_test)},\n",
    "                                             ignore_index = True)         # here we find the best number for T and M (the number of the feat)\n",
    "        if best_t is None:\n",
    "            best_t = t\n",
    "            best_m = m\n",
    "            best_test_error = 1 - rf.score(X_test,y_test)\n",
    "        elif best_test_error > 1 - rf.score(X_test,y_test):\n",
    "            best_test_error = 1 - rf.score(X_test,y_test)\n",
    "            best_t = t\n",
    "            best_m = m\n",
    "            \n",
    "print('best t:', best_t,'best m:', best_m, 'best_test_error:',best_test_error)\n",
    "        "
   ]
  },
  {
   "cell_type": "code",
   "execution_count": 132,
   "metadata": {},
   "outputs": [
    {
     "data": {
      "text/plain": [
       "array([[[373,   2],\n",
       "        [  0, 125]],\n",
       "\n",
       "       [[375,   0],\n",
       "        [  6, 119]],\n",
       "\n",
       "       [[369,   6],\n",
       "        [  2, 123]],\n",
       "\n",
       "       [[374,   1],\n",
       "        [  1, 124]]])"
      ]
     },
     "execution_count": 132,
     "metadata": {},
     "output_type": "execute_result"
    }
   ],
   "source": [
    "rf = RandomForestClassifier(n_estimators=1000, \n",
    "                                    max_samples = 1500,\n",
    "                                    max_leaf_nodes= best_t,\n",
    "                                    max_features = best_m,\n",
    "                                    bootstrap = True,\n",
    "                                    oob_score = True,\n",
    "                                    n_jobs=-1)\n",
    "rf.fit(X_train,y_train)\n",
    "multilabel_confusion_matrix(y_true = y_test, y_pred = rf.predict(X_test), labels = [1,2,3,4])"
   ]
  },
  {
   "cell_type": "markdown",
   "metadata": {},
   "source": [
    "Begging has some drawback. Using the same features all the time then trees practically constructs in the same way, therefore, there is a high correlation between the trees. In random forest we use different features in each step, thus, we reduce the correlation and as a consequence it reduces the variance even. Due to this thing the model will be more robust. The test error is lower compared to the other methods."
   ]
  },
  {
   "cell_type": "code",
   "execution_count": 45,
   "metadata": {},
   "outputs": [
    {
     "name": "stdout",
     "output_type": "stream",
     "text": [
      "best_oob: 0.01849999999999996 best_t: 42\n"
     ]
    },
    {
     "name": "stderr",
     "output_type": "stream",
     "text": [
      "UsageError: Line magic function `%%time` not found.\n"
     ]
    }
   ],
   "source": [
    "#5\n",
    "# OOB for 3, bagging \n",
    "oob_score = pd.DataFrame(columns = ['t','oob_score'])\n",
    "best_oob = None\n",
    "best_t = None\n",
    "\n",
    "for t in range(2,51):\n",
    "    bgg = BaggingClassifier(DecisionTreeClassifier(max_leaf_nodes = t),\n",
    "                        n_estimators = 1000,\n",
    "                        max_samples = 2000,\n",
    "                        bootstrap = True,\n",
    "                        oob_score=True,\n",
    "                        n_jobs=-1)\n",
    "    bgg.fit(X,y)\n",
    "    \n",
    "    oob_score = oob_score.append({'t':t,'oob_score':bgg.oob_score_}, ignore_index = True)\n",
    "    \n",
    "    if best_oob is None:                    # the best oob score relative to the length\n",
    "        best_oob = 1 - bgg.oob_score_\n",
    "    elif best_oob > 1 - bgg.oob_score_:\n",
    "        best_oob = 1 - bgg.oob_score_\n",
    "        best_t = t\n",
    "\n",
    "print('best_oob:',best_oob,'best_t:',best_t)"
   ]
  },
  {
   "cell_type": "code",
   "execution_count": 129,
   "metadata": {},
   "outputs": [
    {
     "name": "stdout",
     "output_type": "stream",
     "text": [
      "error out of bag: 0.020000000000000018\n"
     ]
    },
    {
     "data": {
      "text/plain": [
       "array([[[936,   0],\n",
       "        [  0, 290]],\n",
       "\n",
       "       [[907,   0],\n",
       "        [  0, 319]],\n",
       "\n",
       "       [[920,   0],\n",
       "        [  0, 306]],\n",
       "\n",
       "       [[915,   0],\n",
       "        [  0, 311]]])"
      ]
     },
     "execution_count": 129,
     "metadata": {},
     "output_type": "execute_result"
    }
   ],
   "source": [
    "from sklearn.ensemble.forest import _generate_unsampled_indices\n",
    "\n",
    "bgg = BaggingClassifier(DecisionTreeClassifier(max_leaf_nodes = 42),\n",
    "                        n_estimators = 1000,\n",
    "                        max_samples = 2000,\n",
    "                        bootstrap = True,\n",
    "                        oob_score=True,\n",
    "                        n_jobs=-1)\n",
    "\n",
    "\n",
    "bgg.fit(X,y)\n",
    "print('error out of bag:', 1 - bgg.oob_score_)\n",
    "\n",
    "for rand_state in bgg.estimators_:                #there are 1000 trees for constructing, therefore, 1000 different samples. Each sample has\n",
    "    indices = _generate_unsampled_indices(        # random state, we try to get find this random state for the particular tree, thus,\n",
    "    rand_state.random_state,X.shape[0],1000)      # we get all observations that are used in this tree => to get oob we take the opposite ones\n",
    "    \n",
    "multilabel_confusion_matrix(y_true = np.array(y.iloc[indices]), \n",
    "                            y_pred = np.array(bgg.predict(X.iloc[indices])), # for that oob observations we predict and calculate the matrix\n",
    "                            labels = [1,2,3,4])"
   ]
  },
  {
   "cell_type": "code",
   "execution_count": 117,
   "metadata": {},
   "outputs": [
    {
     "name": "stdout",
     "output_type": "stream",
     "text": [
      "best t: 44 best m: 1 best_test_error: 0.014499999999999957\n"
     ]
    }
   ],
   "source": [
    "# OOB for 4, random forest \n",
    "\n",
    "oob_randomforest = pd.DataFrame(columns = ['t','m','oob_score'])\n",
    "best_t = None\n",
    "best_m = None\n",
    "best_test_error = None\n",
    "\n",
    "for t in range(2,51):\n",
    "    for m in range(1,7):\n",
    "\n",
    "        rf = RandomForestClassifier(n_estimators=1000, \n",
    "                                    max_samples = 2000,\n",
    "                                    max_leaf_nodes= t,\n",
    "                                    max_features = m,\n",
    "                                    oob_score = True,\n",
    "                                    n_jobs=-1)\n",
    "        rf.fit(X,y)\n",
    "        \n",
    "        oob_randomforest = oob_randomforest.append({'t': t, \n",
    "                                              'm': m, \n",
    "                                              'oob_score': 1 - rf.oob_score_},\n",
    "                                             ignore_index = True)\n",
    "        if best_t is None:\n",
    "            best_t = t\n",
    "            best_m = m\n",
    "            best_test_error = 1 - rf.oob_score_\n",
    "        elif best_test_error > 1 - rf.oob_score_:\n",
    "            best_test_error = 1 - rf.oob_score_\n",
    "            best_t = t\n",
    "            best_m = m\n",
    "            \n",
    "print('best t:', best_t,'best m:', best_m, 'best_test_error:',best_test_error)\n"
   ]
  },
  {
   "cell_type": "code",
   "execution_count": 118,
   "metadata": {},
   "outputs": [
    {
     "data": {
      "text/plain": [
       "array([[[907,   1],\n",
       "        [  1, 309]],\n",
       "\n",
       "       [[906,   1],\n",
       "        [  4, 307]],\n",
       "\n",
       "       [[923,   5],\n",
       "        [  2, 288]],\n",
       "\n",
       "       [[910,   1],\n",
       "        [  1, 306]]])"
      ]
     },
     "execution_count": 118,
     "metadata": {},
     "output_type": "execute_result"
    }
   ],
   "source": [
    "rf = RandomForestClassifier(n_estimators=1000, \n",
    "                                    max_samples = 2000,\n",
    "                                    max_leaf_nodes= best_t,\n",
    "                                    max_features = best_m,\n",
    "                                    oob_score = True,\n",
    "                                    n_jobs=-1)\n",
    "rf.fit(X,y)\n",
    "\n",
    "for rand_state in rf.estimators_:\n",
    "    indices = _generate_unsampled_indices(\n",
    "    rand_state.random_state,X.shape[0],1000)\n",
    "    \n",
    "multilabel_confusion_matrix(y_true = np.array(y.iloc[indices]), \n",
    "                            y_pred = np.array(rf.predict(X.iloc[indices])), \n",
    "                            labels = [1,2,3,4])"
   ]
  },
  {
   "cell_type": "code",
   "execution_count": 119,
   "metadata": {},
   "outputs": [
    {
     "data": {
      "image/png": "[encoded data removed]",
      "text/plain": [
       "<Figure size 600x450 with 1 Axes>"
      ]
     },
     "metadata": {},
     "output_type": "display_data"
    }
   ],
   "source": [
    "plt.figure(figsize = (8,6), dpi = 75)                             # here I plot the oob errors for different M.\n",
    "plt.plot(oob_randomforest[oob_randomforest['m'] == 1].t,\n",
    "         oob_randomforest[oob_randomforest['m'] == 1].oob_score,\n",
    "         'r-', \n",
    "         label = 'm = 1')\n",
    "plt.plot(oob_randomforest[oob_randomforest['m'] == 2].t,\n",
    "         oob_randomforest[oob_randomforest['m'] == 2].oob_score,\n",
    "         'k-', \n",
    "         label = 'm = 2')\n",
    "plt.plot(oob_randomforest[oob_randomforest['m'] == 3].t,\n",
    "         oob_randomforest[oob_randomforest['m'] == 3].oob_score,\n",
    "         'b-', \n",
    "         label = 'm = 3')\n",
    "plt.plot(oob_randomforest[oob_randomforest['m'] == 4].t,\n",
    "         oob_randomforest[oob_randomforest['m'] == 4].oob_score,\n",
    "         'g-', \n",
    "         label = 'm = 4')\n",
    "plt.plot(oob_randomforest[oob_randomforest['m'] == 5].t,\n",
    "         oob_randomforest[oob_randomforest['m'] == 5].oob_score,\n",
    "         'c-', \n",
    "         label = 'm = 5')\n",
    "plt.plot(oob_randomforest[oob_randomforest['m'] == 6].t,\n",
    "         oob_randomforest[oob_randomforest['m'] == 6].oob_score,\n",
    "         'm-', \n",
    "         label = 'm = 6')\n",
    "plt.legend('best')\n",
    "\n",
    "plt.xlabel('T')\n",
    "plt.legend();"
   ]
  },
  {
   "cell_type": "markdown",
   "metadata": {},
   "source": [
    "In my opinion, this way of testing models is better compared to the previous one. OOB observations are unsampled observations in each tree construction. That is why we might use all observations from the entire sample data, thereby increasing the number of observations on which we fit the model. As a result, the number of oob observations can be more than half of the train data. if we separated test and train data in such proportion, we would use not so much observation for fitting the model, which is not good."
   ]
  },
  {
   "cell_type": "code",
   "execution_count": null,
   "metadata": {},
   "outputs": [],
   "source": []
  }
 ],
 "metadata": {
  "kernelspec": {
   "display_name": "Python 3",
   "language": "python",
   "name": "python3"
  },
  "language_info": {
   "codemirror_mode": {
    "name": "ipython",
    "version": 3
   },
   "file_extension": ".py",
   "mimetype": "text/x-python",
   "name": "python",
   "nbconvert_exporter": "python",
   "pygments_lexer": "ipython3",
   "version": "3.7.6"
  }
 },
 "nbformat": 4,
 "nbformat_minor": 4
}
