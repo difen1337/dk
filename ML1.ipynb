{
 "cells": [
  {
   "cell_type": "code",
   "execution_count": 1,
   "metadata": {},
   "outputs": [],
   "source": [
    "import pandas as pd\n",
    "import numpy as np\n",
    "import matplotlib.pylab as plt\n",
    "import seaborn as sns\n",
    "import statsmodels.api as sm\n",
    "import scipy.stats as sci\n",
    "from statsmodels.regression.linear_model import OLS\n",
    "\n",
    "pd.set_option('float_format', '{:6.5f}'.format)\n",
    "sns.set(style='ticks')\n",
    "\n",
    "import warnings\n",
    "warnings.filterwarnings(\"ignore\")\n",
    "from statsmodels.regression.linear_model import OLS"
   ]
  },
  {
   "cell_type": "code",
   "execution_count": 2,
   "metadata": {},
   "outputs": [],
   "source": [
    "df=pd.read_csv('student-mat.csv',sep=';')"
   ]
  },
  {
   "cell_type": "code",
   "execution_count": 3,
   "metadata": {},
   "outputs": [
    {
     "data": {
      "text/html": [
       "<div>\n",
       "<style scoped>\n",
       "    .dataframe tbody tr th:only-of-type {\n",
       "        vertical-align: middle;\n",
       "    }\n",
       "\n",
       "    .dataframe tbody tr th {\n",
       "        vertical-align: top;\n",
       "    }\n",
       "\n",
       "    .dataframe thead th {\n",
       "        text-align: right;\n",
       "    }\n",
       "</style>\n",
       "<table border=\"1\" class=\"dataframe\">\n",
       "  <thead>\n",
       "    <tr style=\"text-align: right;\">\n",
       "      <th></th>\n",
       "      <th>school</th>\n",
       "      <th>sex</th>\n",
       "      <th>age</th>\n",
       "      <th>address</th>\n",
       "      <th>famsize</th>\n",
       "      <th>Pstatus</th>\n",
       "      <th>Medu</th>\n",
       "      <th>Fedu</th>\n",
       "      <th>Mjob</th>\n",
       "      <th>Fjob</th>\n",
       "      <th>...</th>\n",
       "      <th>famrel</th>\n",
       "      <th>freetime</th>\n",
       "      <th>goout</th>\n",
       "      <th>Dalc</th>\n",
       "      <th>Walc</th>\n",
       "      <th>health</th>\n",
       "      <th>absences</th>\n",
       "      <th>G1</th>\n",
       "      <th>G2</th>\n",
       "      <th>G3</th>\n",
       "    </tr>\n",
       "  </thead>\n",
       "  <tbody>\n",
       "    <tr>\n",
       "      <th>0</th>\n",
       "      <td>GP</td>\n",
       "      <td>F</td>\n",
       "      <td>18</td>\n",
       "      <td>U</td>\n",
       "      <td>GT3</td>\n",
       "      <td>A</td>\n",
       "      <td>4</td>\n",
       "      <td>4</td>\n",
       "      <td>at_home</td>\n",
       "      <td>teacher</td>\n",
       "      <td>...</td>\n",
       "      <td>4</td>\n",
       "      <td>3</td>\n",
       "      <td>4</td>\n",
       "      <td>1</td>\n",
       "      <td>1</td>\n",
       "      <td>3</td>\n",
       "      <td>6</td>\n",
       "      <td>5</td>\n",
       "      <td>6</td>\n",
       "      <td>6</td>\n",
       "    </tr>\n",
       "    <tr>\n",
       "      <th>1</th>\n",
       "      <td>GP</td>\n",
       "      <td>F</td>\n",
       "      <td>17</td>\n",
       "      <td>U</td>\n",
       "      <td>GT3</td>\n",
       "      <td>T</td>\n",
       "      <td>1</td>\n",
       "      <td>1</td>\n",
       "      <td>at_home</td>\n",
       "      <td>other</td>\n",
       "      <td>...</td>\n",
       "      <td>5</td>\n",
       "      <td>3</td>\n",
       "      <td>3</td>\n",
       "      <td>1</td>\n",
       "      <td>1</td>\n",
       "      <td>3</td>\n",
       "      <td>4</td>\n",
       "      <td>5</td>\n",
       "      <td>5</td>\n",
       "      <td>6</td>\n",
       "    </tr>\n",
       "    <tr>\n",
       "      <th>2</th>\n",
       "      <td>GP</td>\n",
       "      <td>F</td>\n",
       "      <td>15</td>\n",
       "      <td>U</td>\n",
       "      <td>LE3</td>\n",
       "      <td>T</td>\n",
       "      <td>1</td>\n",
       "      <td>1</td>\n",
       "      <td>at_home</td>\n",
       "      <td>other</td>\n",
       "      <td>...</td>\n",
       "      <td>4</td>\n",
       "      <td>3</td>\n",
       "      <td>2</td>\n",
       "      <td>2</td>\n",
       "      <td>3</td>\n",
       "      <td>3</td>\n",
       "      <td>10</td>\n",
       "      <td>7</td>\n",
       "      <td>8</td>\n",
       "      <td>10</td>\n",
       "    </tr>\n",
       "    <tr>\n",
       "      <th>3</th>\n",
       "      <td>GP</td>\n",
       "      <td>F</td>\n",
       "      <td>15</td>\n",
       "      <td>U</td>\n",
       "      <td>GT3</td>\n",
       "      <td>T</td>\n",
       "      <td>4</td>\n",
       "      <td>2</td>\n",
       "      <td>health</td>\n",
       "      <td>services</td>\n",
       "      <td>...</td>\n",
       "      <td>3</td>\n",
       "      <td>2</td>\n",
       "      <td>2</td>\n",
       "      <td>1</td>\n",
       "      <td>1</td>\n",
       "      <td>5</td>\n",
       "      <td>2</td>\n",
       "      <td>15</td>\n",
       "      <td>14</td>\n",
       "      <td>15</td>\n",
       "    </tr>\n",
       "    <tr>\n",
       "      <th>4</th>\n",
       "      <td>GP</td>\n",
       "      <td>F</td>\n",
       "      <td>16</td>\n",
       "      <td>U</td>\n",
       "      <td>GT3</td>\n",
       "      <td>T</td>\n",
       "      <td>3</td>\n",
       "      <td>3</td>\n",
       "      <td>other</td>\n",
       "      <td>other</td>\n",
       "      <td>...</td>\n",
       "      <td>4</td>\n",
       "      <td>3</td>\n",
       "      <td>2</td>\n",
       "      <td>1</td>\n",
       "      <td>2</td>\n",
       "      <td>5</td>\n",
       "      <td>4</td>\n",
       "      <td>6</td>\n",
       "      <td>10</td>\n",
       "      <td>10</td>\n",
       "    </tr>\n",
       "  </tbody>\n",
       "</table>\n",
       "<p>5 rows × 33 columns</p>\n",
       "</div>"
      ],
      "text/plain": [
       "  school sex  age address famsize Pstatus  Medu  Fedu     Mjob      Fjob  ...  \\\n",
       "0     GP   F   18       U     GT3       A     4     4  at_home   teacher  ...   \n",
       "1     GP   F   17       U     GT3       T     1     1  at_home     other  ...   \n",
       "2     GP   F   15       U     LE3       T     1     1  at_home     other  ...   \n",
       "3     GP   F   15       U     GT3       T     4     2   health  services  ...   \n",
       "4     GP   F   16       U     GT3       T     3     3    other     other  ...   \n",
       "\n",
       "  famrel freetime  goout  Dalc  Walc health absences  G1  G2  G3  \n",
       "0      4        3      4     1     1      3        6   5   6   6  \n",
       "1      5        3      3     1     1      3        4   5   5   6  \n",
       "2      4        3      2     2     3      3       10   7   8  10  \n",
       "3      3        2      2     1     1      5        2  15  14  15  \n",
       "4      4        3      2     1     2      5        4   6  10  10  \n",
       "\n",
       "[5 rows x 33 columns]"
      ]
     },
     "execution_count": 3,
     "metadata": {},
     "output_type": "execute_result"
    }
   ],
   "source": [
    "df.head()"
   ]
  },
  {
   "cell_type": "code",
   "execution_count": 4,
   "metadata": {},
   "outputs": [],
   "source": [
    "#2\n",
    "df[['Medu','Fedu','traveltime','studytime','failures','famrel','freetime','goout'\n",
    "   ,'Dalc','Walc','health']] = df[['Medu','Fedu','traveltime','studytime','failures','famrel','freetime','goout'\n",
    "   ,'Dalc','Walc','health']].astype(str)"
   ]
  },
  {
   "cell_type": "code",
   "execution_count": 5,
   "metadata": {},
   "outputs": [],
   "source": [
    "df=pd.get_dummies(df,drop_first = True)"
   ]
  },
  {
   "cell_type": "code",
   "execution_count": 6,
   "metadata": {},
   "outputs": [],
   "source": [
    "y=pd.DataFrame(df.G3)"
   ]
  },
  {
   "cell_type": "code",
   "execution_count": 7,
   "metadata": {},
   "outputs": [],
   "source": [
    "del df['G1']\n",
    "del df['G2']\n",
    "del df['G3']"
   ]
  },
  {
   "cell_type": "code",
   "execution_count": 8,
   "metadata": {},
   "outputs": [],
   "source": [
    "from sklearn.preprocessing import MinMaxScaler\n",
    "\n",
    "sc = MinMaxScaler()\n",
    "sc.fit(df)\n",
    "X = sc.transform(df)"
   ]
  },
  {
   "cell_type": "code",
   "execution_count": 9,
   "metadata": {},
   "outputs": [],
   "source": [
    "X=pd.DataFrame(X)"
   ]
  },
  {
   "cell_type": "code",
   "execution_count": 198,
   "metadata": {},
   "outputs": [],
   "source": [
    "#3\n",
    "from sklearn.linear_model import LinearRegression\n",
    "from sklearn.model_selection import LeaveOneOut\n",
    "from sklearn.model_selection import cross_validate\n",
    "loo = LeaveOneOut()\n",
    "lr=LinearRegression()"
   ]
  },
  {
   "cell_type": "code",
   "execution_count": 199,
   "metadata": {},
   "outputs": [],
   "source": [
    "from sklearn.linear_model import LogisticRegression\n",
    "lreg = LogisticRegression()"
   ]
  },
  {
   "cell_type": "code",
   "execution_count": 200,
   "metadata": {},
   "outputs": [
    {
     "name": "stdout",
     "output_type": "stream",
     "text": [
      "20.646657832084436\n",
      "13.479042934398136\n"
     ]
    }
   ],
   "source": [
    "cross_val = cross_validate(lr,sm.add_constant(X),y,cv=loo,scoring='neg_mean_squared_error',return_train_score=True)\n",
    "print(-cross_val['test_score'].mean())\n",
    "print(-cross_val['train_score'].mean())"
   ]
  },
  {
   "cell_type": "code",
   "execution_count": 201,
   "metadata": {},
   "outputs": [
    {
     "data": {
      "text/plain": [
       "se   20.64666\n",
       "dtype: float64"
      ]
     },
     "execution_count": 201,
     "metadata": {},
     "output_type": "execute_result"
    }
   ],
   "source": [
    "mse=pd.DataFrame(columns=['se'])\n",
    "for train_index,test_index in loo.split(X):\n",
    "    X_train, X_test = X.iloc[train_index], X.iloc[test_index]\n",
    "    y_train, y_test = y.iloc[train_index], y.iloc[test_index]\n",
    "    model=lr.fit(X_train,y_train)\n",
    "    se = float((np.array(y_test) - model.predict(X_test)))**2\n",
    "    mse = mse.append({'se':se}, ignore_index=True)\n",
    "mse.mean()"
   ]
  },
  {
   "cell_type": "markdown",
   "metadata": {},
   "source": [
    "Looking at the scores I might say that there is probably overfitting because MSE OOS is two times more than MSE IS. However, in reality it is really hard to say something about this fact because we don't have other different models so that we may compare them. We may see different scores (MSE IS) from different models and say quite surely about overfitting."
   ]
  },
  {
   "cell_type": "code",
   "execution_count": 202,
   "metadata": {
    "scrolled": true
   },
   "outputs": [],
   "source": [
    "#4\n",
    "features = list() # ordered regressors\n",
    "res_ssr = pd.DataFrame(columns=['reg_th','ssr'])\n",
    "\n",
    "for num_r in range(len(df.columns)+1):\n",
    "    if res_ssr is not None:\n",
    "        for k in range(len(res_ssr)):                        # to find i-th regressor where is min ssr\n",
    "            if res_ssr['ssr'][k] == res_ssr['ssr'].min():\n",
    "                features.append(res_ssr['reg_th'][k])\n",
    "    \n",
    "    res_ssr=pd.DataFrame(columns=['reg_th','ssr'])\n",
    "    \n",
    "    for reg_th in range(len(df.columns)):                # OLS\n",
    "        if reg_th in features:                           # to avoid having duplicates in the regression \n",
    "            continue\n",
    "        if not features: \n",
    "            model_ols = OLS(y, sm.add_constant(X.iloc[:,reg_th]))   #when we try to find the first regressor with min ssr \n",
    "            result_ols = model_ols.fit(cov_type='HC0')\n",
    "            res_ssr = res_ssr.append({'reg_th': reg_th, 'ssr': result_ols.ssr}, ignore_index=True)\n",
    "        else:\n",
    "            features.append(reg_th)                                 #adding new regressor to the picked ones before\n",
    "            model_ols = OLS(y, sm.add_constant(X.iloc[:,features]))\n",
    "            result_ols = model_ols.fit(cov_type='HC0')\n",
    "            res_ssr = res_ssr.append({'reg_th': reg_th, 'ssr': result_ols.ssr}, ignore_index=True)\n",
    "            features.pop()\n",
    "               "
   ]
  },
  {
   "cell_type": "code",
   "execution_count": 203,
   "metadata": {
    "scrolled": true
   },
   "outputs": [
    {
     "data": {
      "text/plain": [
       "[36.0,\n",
       " 34.0,\n",
       " 35.0,\n",
       " 50.0,\n",
       " 17.0,\n",
       " 10.0,\n",
       " 53.0,\n",
       " 54.0,\n",
       " 3.0,\n",
       " 44.0,\n",
       " 1.0,\n",
       " 18.0,\n",
       " 32.0,\n",
       " 5.0,\n",
       " 52.0,\n",
       " 57.0,\n",
       " 37.0,\n",
       " 0.0,\n",
       " 62.0,\n",
       " 38.0,\n",
       " 28.0,\n",
       " 25.0,\n",
       " 24.0,\n",
       " 4.0,\n",
       " 22.0,\n",
       " 42.0,\n",
       " 64.0,\n",
       " 56.0,\n",
       " 9.0,\n",
       " 43.0,\n",
       " 59.0,\n",
       " 39.0,\n",
       " 40.0,\n",
       " 16.0,\n",
       " 27.0,\n",
       " 49.0,\n",
       " 61.0,\n",
       " 31.0,\n",
       " 65.0,\n",
       " 51.0,\n",
       " 66.0,\n",
       " 33.0,\n",
       " 67.0,\n",
       " 68.0,\n",
       " 19.0,\n",
       " 7.0,\n",
       " 8.0,\n",
       " 2.0,\n",
       " 12.0,\n",
       " 30.0,\n",
       " 60.0,\n",
       " 58.0,\n",
       " 23.0,\n",
       " 29.0,\n",
       " 46.0,\n",
       " 11.0,\n",
       " 26.0,\n",
       " 15.0,\n",
       " 55.0,\n",
       " 47.0,\n",
       " 48.0,\n",
       " 45.0,\n",
       " 6.0,\n",
       " 20.0,\n",
       " 13.0,\n",
       " 14.0,\n",
       " 63.0,\n",
       " 41.0,\n",
       " 21.0]"
      ]
     },
     "execution_count": 203,
     "metadata": {},
     "output_type": "execute_result"
    }
   ],
   "source": [
    "features # the order of the # regressors"
   ]
  },
  {
   "cell_type": "code",
   "execution_count": 204,
   "metadata": {},
   "outputs": [],
   "source": [
    "mse_cv = pd.DataFrame(columns = ['n_features','mse_is','mse_oos'])\n",
    "\n",
    "min_mse = None\n",
    "regr = None\n",
    "for i in range(len(features)):\n",
    "    cross_val_m = cross_validate(lr,sm.add_constant(X.iloc[:,features[0:i+1]]),y,\n",
    "                                 cv=loo,scoring='neg_mean_squared_error',return_train_score=True)\n",
    "    mse_cv = mse_cv.append({'n_features':len((X.iloc[:,features[0:i+1]]).columns),\n",
    "                           'mse_is':-cross_val_m.get(\"train_score\").mean(),\n",
    "                           'mse_oos':-cross_val_m.get(\"test_score\").mean()}, ignore_index=True)\n",
    "    mse_oos=-cross_val_m.get(\"test_score\").mean()\n",
    "    \n",
    "    if min_mse is None:\n",
    "        min_mse=mse_oos\n",
    "    elif min_mse>mse_oos:\n",
    "        min_mse=mse_oos\n",
    "        regr = i+1\n"
   ]
  },
  {
   "cell_type": "code",
   "execution_count": 207,
   "metadata": {},
   "outputs": [
    {
     "name": "stdout",
     "output_type": "stream",
     "text": [
      "24 min_mse: 16.577439095228467\n"
     ]
    }
   ],
   "source": [
    "print(regr, 'min_mse:', min_mse)"
   ]
  },
  {
   "cell_type": "code",
   "execution_count": 208,
   "metadata": {},
   "outputs": [
    {
     "data": {
      "image/png": "[encoded data removed]",
      "text/plain": [
       "<Figure size 432x288 with 1 Axes>"
      ]
     },
     "metadata": {},
     "output_type": "display_data"
    }
   ],
   "source": [
    "mse_cv[['mse_is','mse_oos']].plot()\n",
    "plt.show()"
   ]
  },
  {
   "cell_type": "markdown",
   "metadata": {},
   "source": [
    "Where we see the lowest MSE OOS, there is a good fit relative to the other points. On the left side up to the lowest point, we may consider it probably as underfitting. accroding to the results, on the right it is probably overfitting in the scope of this method."
   ]
  },
  {
   "cell_type": "code",
   "execution_count": 209,
   "metadata": {},
   "outputs": [],
   "source": [
    "#5\n",
    "from sklearn.model_selection import train_test_split\n",
    "X_train_5, X_test_5, y_train_5, y_test_5 = train_test_split(X, y, random_state=True,\n",
    "                                                            test_size = 0.2)"
   ]
  },
  {
   "cell_type": "code",
   "execution_count": 210,
   "metadata": {},
   "outputs": [],
   "source": [
    "from sklearn.linear_model import Ridge\n",
    "from sklearn.linear_model import Lasso\n",
    "\n",
    "mse_ridge = pd.DataFrame(columns = ['n_lymbda','mse_oos'])\n",
    "lymbda = [i*5 for i in range(1,51)]\n",
    "\n",
    "for i in lymbda: \n",
    "    rid = Ridge(alpha=i)\n",
    "    rid_res = rid.fit(X_train_5,y_train_5)\n",
    "    mse_ridge = mse_ridge.append({'n_lymbda': i,'mse_oos': float(((y_test_5 - rid_res.predict(X_test_5))**2).mean())}, ignore_index=True)\n",
    "    "
   ]
  },
  {
   "cell_type": "code",
   "execution_count": 211,
   "metadata": {},
   "outputs": [],
   "source": [
    "lass = Lasso(alpha=i)\n",
    "lass_res = lass.fit(X_train_5,y_train_5)"
   ]
  },
  {
   "cell_type": "code",
   "execution_count": 212,
   "metadata": {},
   "outputs": [],
   "source": [
    "mse_lasso = pd.DataFrame(columns = ['n_lymbda','mse_oos'])\n",
    "lymbda_lasso = [.02*i for i in range(1,50)]\n",
    "for i in lymbda_lasso: \n",
    "    lass = Lasso(alpha=i)\n",
    "    lass_res = lass.fit(X_train_5,y_train_5)\n",
    "    mse_lasso = mse_lasso.append({'n_lymbda': i,\n",
    "                                  'mse_oos': float(((y_test_5 - lass_res.predict(X_test_5).reshape(-1,1))**2).mean())}, ignore_index=True )"
   ]
  },
  {
   "cell_type": "code",
   "execution_count": 213,
   "metadata": {},
   "outputs": [
    {
     "data": {
      "image/png": "[encoded data removed]",
      "text/plain": [
       "<Figure size 1152x288 with 1 Axes>"
      ]
     },
     "metadata": {},
     "output_type": "display_data"
    }
   ],
   "source": [
    "#ridge mse oos\n",
    "\n",
    "fig, ax = plt.subplots(figsize=(16,4))\n",
    "ax.plot(mse_ridge['n_lymbda'], mse_ridge['mse_oos'], 'rx', linestyle='solid')\n",
    "plt.show()"
   ]
  },
  {
   "cell_type": "code",
   "execution_count": 214,
   "metadata": {},
   "outputs": [
    {
     "data": {
      "image/png": "[encoded data removed]",
      "text/plain": [
       "<Figure size 1152x288 with 1 Axes>"
      ]
     },
     "metadata": {},
     "output_type": "display_data"
    }
   ],
   "source": [
    "#lasso mse oos\n",
    "\n",
    "fig, ax = plt.subplots(figsize=(16,4))\n",
    "ax.plot(mse_lasso['n_lymbda'], mse_lasso['mse_oos'], 'rx', linestyle='solid')\n",
    "plt.show()"
   ]
  },
  {
   "cell_type": "code",
   "execution_count": 215,
   "metadata": {},
   "outputs": [
    {
     "name": "stdout",
     "output_type": "stream",
     "text": [
      "33.422818791946305 min_mse: 19.061825714012308\n"
     ]
    }
   ],
   "source": [
    "#6\n",
    "#ridge kfold\n",
    "from sklearn.model_selection import KFold\n",
    "min_mse = None\n",
    "min_lymbda = None\n",
    "kfold = KFold(n_splits = 10,shuffle=True,random_state=0)\n",
    "for lymbda in np.linspace(0,60,150):\n",
    "    ridge_model = Ridge(alpha = lymbda)\n",
    "    mse_oos = -cross_validate(ridge_model,sm.add_constant(X),y,cv=kfold,\n",
    "                             scoring='neg_mean_squared_error',return_train_score=True)['test_score'].mean()\n",
    "    if min_mse is None:\n",
    "        min_mse=mse_oos\n",
    "    elif min_mse>mse_oos:\n",
    "        min_mse=mse_oos\n",
    "        min_lymbda = lymbda\n",
    "        \n",
    "print(min_lymbda,'min_mse:', min_mse)"
   ]
  },
  {
   "cell_type": "code",
   "execution_count": 216,
   "metadata": {},
   "outputs": [
    {
     "name": "stdout",
     "output_type": "stream",
     "text": [
      "32.54237288135593 min_mse: 18.509036340623762\n"
     ]
    }
   ],
   "source": [
    "#ridge_loo\n",
    "min_mse = None\n",
    "min_lymbda = None\n",
    "\n",
    "for lymbda in np.linspace(0,60,60):\n",
    "    ridge_model = Ridge(alpha = lymbda)\n",
    "    mse_oos = -cross_validate(ridge_model,sm.add_constant(X),y,cv=loo,\n",
    "                             scoring='neg_mean_squared_error',return_train_score=True)['test_score'].mean()\n",
    "    if min_mse is None:\n",
    "        min_mse=mse_oos\n",
    "    elif min_mse>mse_oos:\n",
    "        min_mse=mse_oos\n",
    "        min_lymbda = lymbda\n",
    "        \n",
    "print(min_lymbda,'min_mse:', min_mse)"
   ]
  },
  {
   "cell_type": "code",
   "execution_count": 217,
   "metadata": {},
   "outputs": [
    {
     "name": "stdout",
     "output_type": "stream",
     "text": [
      "0.046822742474916385 min_mse: 18.966187953617823\n"
     ]
    }
   ],
   "source": [
    "#lasso kfold\n",
    "\n",
    "min_mse = None\n",
    "min_lymbda = None\n",
    "\n",
    "for lymbda in np.linspace(0,1,300):\n",
    "    lasso_model = Lasso(alpha = lymbda)\n",
    "    mse_oos = -cross_validate(lasso_model,sm.add_constant(X),y,cv=kfold,\n",
    "                             scoring='neg_mean_squared_error',return_train_score=True)['test_score'].mean()\n",
    "    if min_mse is None:\n",
    "        min_mse=mse_oos\n",
    "    elif min_mse>mse_oos:\n",
    "        min_mse=mse_oos\n",
    "        min_lymbda = lymbda\n",
    "        \n",
    "print(min_lymbda,'min_mse:', min_mse)"
   ]
  },
  {
   "cell_type": "code",
   "execution_count": 223,
   "metadata": {},
   "outputs": [
    {
     "name": "stdout",
     "output_type": "stream",
     "text": [
      "0.05555555555555556 min_mse: 18.434387259364822\n"
     ]
    }
   ],
   "source": [
    "#lasso loo\n",
    "\n",
    "min_mse = None\n",
    "min_lymbda = None\n",
    "\n",
    "for lymbda in np.linspace(0,.1,10):\n",
    "    lasso_model = Lasso(alpha = lymbda)\n",
    "    mse_oos = -cross_validate(lasso_model,sm.add_constant(X),y,cv=loo,\n",
    "                             scoring='neg_mean_squared_error',return_train_score=True)['test_score'].mean()\n",
    "    if min_mse is None:\n",
    "        min_mse=mse_oos\n",
    "    elif min_mse>mse_oos:\n",
    "        min_mse=mse_oos\n",
    "        min_lymbda = lymbda\n",
    "        \n",
    "print(min_lymbda,'min_mse:', min_mse)"
   ]
  },
  {
   "cell_type": "code",
   "execution_count": 219,
   "metadata": {},
   "outputs": [],
   "source": [
    "#7\n",
    "from scipy.spatial.distance import mahalanobis\n",
    "from sklearn.metrics import mean_squared_error\n",
    "from sklearn.neighbors import KNeighborsRegressor"
   ]
  },
  {
   "cell_type": "code",
   "execution_count": 220,
   "metadata": {
    "scrolled": true
   },
   "outputs": [],
   "source": [
    "knn_mse=pd.DataFrame(columns=['k','mse'])\n",
    "for k in range(1,31): \n",
    "    knn_se=pd.DataFrame(columns=['se'])\n",
    "    \n",
    "    for train_index,test_index in loo.split(X):\n",
    "        \n",
    "        X_train, X_test = X.iloc[train_index], X.iloc[test_index]\n",
    "        y_train, y_test = y.iloc[train_index], y.iloc[test_index]\n",
    "        knn_model = KNeighborsRegressor(n_neighbors = k, metric = 'mahalanobis', \n",
    "                                        metric_params = {'V':np.cov(X_train)}, algorithm = 'brute')\n",
    "        knn_model_fit = knn_model.fit(X_train,y_train)\n",
    "        knn_se=knn_se.append({'se':float((np.array(y_test) - knn_model_fit.predict(X_test)))**2},\n",
    "                             ignore_index=True)\n",
    "        \n",
    "    knn_mse = knn_mse.append({'k':k,'mse':knn_se['se'].mean()},ignore_index=True)\n",
    "        \n",
    "\n",
    "    "
   ]
  },
  {
   "cell_type": "code",
   "execution_count": 221,
   "metadata": {},
   "outputs": [
    {
     "data": {
      "image/png": "[encoded data removed]",
      "text/plain": [
       "<Figure size 1152x288 with 1 Axes>"
      ]
     },
     "metadata": {},
     "output_type": "display_data"
    }
   ],
   "source": [
    "fig, ax = plt.subplots(figsize=(16,4))\n",
    "ax.plot(knn_mse['k'], knn_mse['mse'], 'rx', linestyle='solid')\n",
    "plt.show()"
   ]
  },
  {
   "cell_type": "markdown",
   "metadata": {},
   "source": [
    "k = 17 is the best result in mse oos."
   ]
  },
  {
   "cell_type": "markdown",
   "metadata": {},
   "source": [
    "#8"
   ]
  },
  {
   "cell_type": "markdown",
   "metadata": {},
   "source": [
    "The best performing model if we take into consideration a coefficient mse that is out of sample, then it is a linear regression. I used a forward stepwise technique to order the regressors. Using ordered 24 regressors gives the best result. However, in my personal view, it doesn't mean that it is the best method (linear regression) because there may occur some issues relative to a functional form, overfitting and so on. Linear regression tries to minimize MSE IS but the goal in ML to have the best prediction. In other words, we generally should consider mse oos so there are other methods such as Lasso and Ridge regressions that allow not to overfit on training data. That is why it can be beneficial we might get a better result on test data. My choice is Lasso or Ridge regression. Nevertheless, we might have problems with a functional form because these methods are quite unflexible. According to this problem, KNN regression helps to eliminate this problem to make a model more flexible. Conversely, this method has some dimensional issue if we have many features and not so many observations, therefore, the distance between observations might be large. Thus, this method will perform worse than Ridge or Lasso.\n",
    "In conclusion, some methods may perform better in different situations, and it is hard to choose which one to use in a particular situation. We have to compare them using particular data so that we can obtain cross-validation scores from these methods and after that, we may say.\n",
    "If we take this situation, I would choose Lasso or Ridge because there are a large space and little observations. Also, MSE OOS says about this fact.\n",
    "\n"
   ]
  },
  {
   "cell_type": "code",
   "execution_count": null,
   "metadata": {},
   "outputs": [],
   "source": []
  }
 ],
 "metadata": {
  "kernelspec": {
   "display_name": "Python 3",
   "language": "python",
   "name": "python3"
  },
  "language_info": {
   "codemirror_mode": {
    "name": "ipython",
    "version": 3
   },
   "file_extension": ".py",
   "mimetype": "text/x-python",
   "name": "python",
   "nbconvert_exporter": "python",
   "pygments_lexer": "ipython3",
   "version": "3.7.6"
  }
 },
 "nbformat": 4,
 "nbformat_minor": 4
}
