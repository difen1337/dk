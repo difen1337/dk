{
 "cells": [
  {
   "cell_type": "code",
   "execution_count": 1,
   "metadata": {},
   "outputs": [],
   "source": [
    "import pandas as pd\n",
    "import numpy as np\n",
    "import matplotlib.pylab as plt\n",
    "import seaborn as sns\n",
    "import statsmodels.api as sm\n",
    "\n",
    "pd.set_option('float_format', '{:6.2f}'.format)\n",
    "sns.set(style='ticks')\n",
    "\n",
    "import warnings\n",
    "warnings.filterwarnings(\"ignore\")"
   ]
  },
  {
   "cell_type": "code",
   "execution_count": 2,
   "metadata": {},
   "outputs": [],
   "source": [
    "df=pd.read_csv(\"wage2.txt\",na_values='.')"
   ]
  },
  {
   "cell_type": "code",
   "execution_count": 3,
   "metadata": {},
   "outputs": [
    {
     "data": {
      "text/html": [
       "<div>\n",
       "<style scoped>\n",
       "    .dataframe tbody tr th:only-of-type {\n",
       "        vertical-align: middle;\n",
       "    }\n",
       "\n",
       "    .dataframe tbody tr th {\n",
       "        vertical-align: top;\n",
       "    }\n",
       "\n",
       "    .dataframe thead th {\n",
       "        text-align: right;\n",
       "    }\n",
       "</style>\n",
       "<table border=\"1\" class=\"dataframe\">\n",
       "  <thead>\n",
       "    <tr style=\"text-align: right;\">\n",
       "      <th></th>\n",
       "      <th>wage</th>\n",
       "      <th>hours</th>\n",
       "      <th>iq</th>\n",
       "      <th>kww</th>\n",
       "      <th>educ</th>\n",
       "      <th>exper</th>\n",
       "      <th>tenure</th>\n",
       "      <th>age</th>\n",
       "      <th>married</th>\n",
       "      <th>black</th>\n",
       "      <th>south</th>\n",
       "      <th>urban</th>\n",
       "      <th>sibs</th>\n",
       "      <th>brthord</th>\n",
       "      <th>meduc</th>\n",
       "      <th>feduc</th>\n",
       "      <th>lwage</th>\n",
       "    </tr>\n",
       "  </thead>\n",
       "  <tbody>\n",
       "    <tr>\n",
       "      <th>0</th>\n",
       "      <td>769</td>\n",
       "      <td>40</td>\n",
       "      <td>93</td>\n",
       "      <td>35</td>\n",
       "      <td>12</td>\n",
       "      <td>11</td>\n",
       "      <td>2</td>\n",
       "      <td>31</td>\n",
       "      <td>1</td>\n",
       "      <td>0</td>\n",
       "      <td>0</td>\n",
       "      <td>1</td>\n",
       "      <td>1</td>\n",
       "      <td>2.00</td>\n",
       "      <td>8.00</td>\n",
       "      <td>8.00</td>\n",
       "      <td>6.65</td>\n",
       "    </tr>\n",
       "    <tr>\n",
       "      <th>1</th>\n",
       "      <td>808</td>\n",
       "      <td>50</td>\n",
       "      <td>119</td>\n",
       "      <td>41</td>\n",
       "      <td>18</td>\n",
       "      <td>11</td>\n",
       "      <td>16</td>\n",
       "      <td>37</td>\n",
       "      <td>1</td>\n",
       "      <td>0</td>\n",
       "      <td>0</td>\n",
       "      <td>1</td>\n",
       "      <td>1</td>\n",
       "      <td>nan</td>\n",
       "      <td>14.00</td>\n",
       "      <td>14.00</td>\n",
       "      <td>6.69</td>\n",
       "    </tr>\n",
       "    <tr>\n",
       "      <th>2</th>\n",
       "      <td>825</td>\n",
       "      <td>40</td>\n",
       "      <td>108</td>\n",
       "      <td>46</td>\n",
       "      <td>14</td>\n",
       "      <td>11</td>\n",
       "      <td>9</td>\n",
       "      <td>33</td>\n",
       "      <td>1</td>\n",
       "      <td>0</td>\n",
       "      <td>0</td>\n",
       "      <td>1</td>\n",
       "      <td>1</td>\n",
       "      <td>2.00</td>\n",
       "      <td>14.00</td>\n",
       "      <td>14.00</td>\n",
       "      <td>6.72</td>\n",
       "    </tr>\n",
       "    <tr>\n",
       "      <th>3</th>\n",
       "      <td>650</td>\n",
       "      <td>40</td>\n",
       "      <td>96</td>\n",
       "      <td>32</td>\n",
       "      <td>12</td>\n",
       "      <td>13</td>\n",
       "      <td>7</td>\n",
       "      <td>32</td>\n",
       "      <td>1</td>\n",
       "      <td>0</td>\n",
       "      <td>0</td>\n",
       "      <td>1</td>\n",
       "      <td>4</td>\n",
       "      <td>3.00</td>\n",
       "      <td>12.00</td>\n",
       "      <td>12.00</td>\n",
       "      <td>6.48</td>\n",
       "    </tr>\n",
       "    <tr>\n",
       "      <th>4</th>\n",
       "      <td>562</td>\n",
       "      <td>40</td>\n",
       "      <td>74</td>\n",
       "      <td>27</td>\n",
       "      <td>11</td>\n",
       "      <td>14</td>\n",
       "      <td>5</td>\n",
       "      <td>34</td>\n",
       "      <td>1</td>\n",
       "      <td>0</td>\n",
       "      <td>0</td>\n",
       "      <td>1</td>\n",
       "      <td>10</td>\n",
       "      <td>6.00</td>\n",
       "      <td>6.00</td>\n",
       "      <td>11.00</td>\n",
       "      <td>6.33</td>\n",
       "    </tr>\n",
       "  </tbody>\n",
       "</table>\n",
       "</div>"
      ],
      "text/plain": [
       "   wage  hours   iq  kww  educ  exper  tenure  age  married  black  south  \\\n",
       "0   769     40   93   35    12     11       2   31        1      0      0   \n",
       "1   808     50  119   41    18     11      16   37        1      0      0   \n",
       "2   825     40  108   46    14     11       9   33        1      0      0   \n",
       "3   650     40   96   32    12     13       7   32        1      0      0   \n",
       "4   562     40   74   27    11     14       5   34        1      0      0   \n",
       "\n",
       "   urban  sibs  brthord  meduc  feduc  lwage  \n",
       "0      1     1     2.00   8.00   8.00   6.65  \n",
       "1      1     1      nan  14.00  14.00   6.69  \n",
       "2      1     1     2.00  14.00  14.00   6.72  \n",
       "3      1     4     3.00  12.00  12.00   6.48  \n",
       "4      1    10     6.00   6.00  11.00   6.33  "
      ]
     },
     "execution_count": 3,
     "metadata": {},
     "output_type": "execute_result"
    }
   ],
   "source": [
    "df.head()"
   ]
  },
  {
   "cell_type": "code",
   "execution_count": 4,
   "metadata": {},
   "outputs": [
    {
     "data": {
      "text/html": [
       "<div>\n",
       "<style scoped>\n",
       "    .dataframe tbody tr th:only-of-type {\n",
       "        vertical-align: middle;\n",
       "    }\n",
       "\n",
       "    .dataframe tbody tr th {\n",
       "        vertical-align: top;\n",
       "    }\n",
       "\n",
       "    .dataframe thead th {\n",
       "        text-align: right;\n",
       "    }\n",
       "</style>\n",
       "<table border=\"1\" class=\"dataframe\">\n",
       "  <thead>\n",
       "    <tr style=\"text-align: right;\">\n",
       "      <th></th>\n",
       "      <th>educ</th>\n",
       "      <th>exper</th>\n",
       "      <th>tenure</th>\n",
       "      <th>black</th>\n",
       "    </tr>\n",
       "  </thead>\n",
       "  <tbody>\n",
       "    <tr>\n",
       "      <th>count</th>\n",
       "      <td>935.00</td>\n",
       "      <td>935.00</td>\n",
       "      <td>935.00</td>\n",
       "      <td>935.00</td>\n",
       "    </tr>\n",
       "    <tr>\n",
       "      <th>mean</th>\n",
       "      <td>13.47</td>\n",
       "      <td>11.56</td>\n",
       "      <td>7.23</td>\n",
       "      <td>0.13</td>\n",
       "    </tr>\n",
       "    <tr>\n",
       "      <th>std</th>\n",
       "      <td>2.20</td>\n",
       "      <td>4.37</td>\n",
       "      <td>5.08</td>\n",
       "      <td>0.33</td>\n",
       "    </tr>\n",
       "    <tr>\n",
       "      <th>min</th>\n",
       "      <td>9.00</td>\n",
       "      <td>1.00</td>\n",
       "      <td>0.00</td>\n",
       "      <td>0.00</td>\n",
       "    </tr>\n",
       "    <tr>\n",
       "      <th>25%</th>\n",
       "      <td>12.00</td>\n",
       "      <td>8.00</td>\n",
       "      <td>3.00</td>\n",
       "      <td>0.00</td>\n",
       "    </tr>\n",
       "    <tr>\n",
       "      <th>50%</th>\n",
       "      <td>12.00</td>\n",
       "      <td>11.00</td>\n",
       "      <td>7.00</td>\n",
       "      <td>0.00</td>\n",
       "    </tr>\n",
       "    <tr>\n",
       "      <th>75%</th>\n",
       "      <td>16.00</td>\n",
       "      <td>15.00</td>\n",
       "      <td>11.00</td>\n",
       "      <td>0.00</td>\n",
       "    </tr>\n",
       "    <tr>\n",
       "      <th>max</th>\n",
       "      <td>18.00</td>\n",
       "      <td>23.00</td>\n",
       "      <td>22.00</td>\n",
       "      <td>1.00</td>\n",
       "    </tr>\n",
       "  </tbody>\n",
       "</table>\n",
       "</div>"
      ],
      "text/plain": [
       "        educ  exper  tenure  black\n",
       "count 935.00 935.00  935.00 935.00\n",
       "mean   13.47  11.56    7.23   0.13\n",
       "std     2.20   4.37    5.08   0.33\n",
       "min     9.00   1.00    0.00   0.00\n",
       "25%    12.00   8.00    3.00   0.00\n",
       "50%    12.00  11.00    7.00   0.00\n",
       "75%    16.00  15.00   11.00   0.00\n",
       "max    18.00  23.00   22.00   1.00"
      ]
     },
     "execution_count": 4,
     "metadata": {},
     "output_type": "execute_result"
    }
   ],
   "source": [
    "#2\n",
    "df[['educ','exper','tenure','black']].describe()"
   ]
  },
  {
   "cell_type": "code",
   "execution_count": 5,
   "metadata": {},
   "outputs": [
    {
     "name": "stdout",
     "output_type": "stream",
     "text": [
      "                            OLS Regression Results                            \n",
      "==============================================================================\n",
      "Dep. Variable:                  lwage   R-squared:                       0.181\n",
      "Model:                            OLS   Adj. R-squared:                  0.178\n",
      "Method:                 Least Squares   F-statistic:                     52.93\n",
      "Date:                Wed, 18 Dec 2019   Prob (F-statistic):           3.29e-40\n",
      "Time:                        14:00:06   Log-Likelihood:                -424.18\n",
      "No. Observations:                 935   AIC:                             858.4\n",
      "Df Residuals:                     930   BIC:                             882.6\n",
      "Df Model:                           4                                         \n",
      "Covariance Type:                  HC0                                         \n",
      "==============================================================================\n",
      "                 coef    std err          z      P>|z|      [0.025      0.975]\n",
      "------------------------------------------------------------------------------\n",
      "const          5.6125      0.115     48.987      0.000       5.388       5.837\n",
      "educ           0.0690      0.007     10.246      0.000       0.056       0.082\n",
      "exper          0.0152      0.003      4.542      0.000       0.009       0.022\n",
      "tenure         0.0122      0.003      4.688      0.000       0.007       0.017\n",
      "black         -0.2074      0.037     -5.555      0.000      -0.281      -0.134\n",
      "==============================================================================\n",
      "Omnibus:                       24.859   Durbin-Watson:                   1.773\n",
      "Prob(Omnibus):                  0.000   Jarque-Bera (JB):               38.910\n",
      "Skew:                          -0.229   Prob(JB):                     3.55e-09\n",
      "Kurtosis:                       3.889   Cond. No.                         174.\n",
      "==============================================================================\n",
      "\n",
      "Warnings:\n",
      "[1] Standard Errors are heteroscedasticity robust (HC0)\n"
     ]
    }
   ],
   "source": [
    "#3\n",
    "from statsmodels.regression.linear_model import OLS\n",
    "model = OLS(df.lwage , sm.add_constant(df[['educ','exper','tenure','black']]))\n",
    "result = model.fit(cov_type='HC0') \n",
    "print(result.summary())"
   ]
  },
  {
   "cell_type": "markdown",
   "metadata": {},
   "source": [
    "#4\n",
    "Все коэффициенты являются значимыми на 5% уровне значимости, так как у всех коэффицентов, z статистика имеет достаточно большое значение, у нас H0: b0=0 H1: b0!=0, и так для всех коэффициентов, принимаем гипотезу H0 при значение z статистика на интервале (-1.96,1.96)"
   ]
  },
  {
   "cell_type": "markdown",
   "metadata": {},
   "source": [
    "#5\n",
    "при увеличении образования на 1 год, зарплата увеличится на (e^b1-1)*100%= 7,14% в среднем при прочих равных "
   ]
  },
  {
   "cell_type": "markdown",
   "metadata": {},
   "source": [
    "#6\n",
    "В данном уравнении существует эндогенность, из-за того что, наша зарплата может повлиять на наше образование, то есть если у тебя достаточно средств, таким образом ты можешь оплатить себе образование, чтобы в дальнейшем твоя зарплата повысилась, то есть существует зависимость между зп и образование. Занижается, изначально было какое-то образование, далее после повышения зарплаты можно воздействовать на твое образование, то есть можно получить дополнительное образование, если имеешь достатчоное количество средств, при этом получается, что после повышения своей квалификации у тебя образовалось какое-то значение в образовании, выше чем изначальное, когда зп повлияла на образование, таким образом в данный момент твое образование выше, чем начальное, но получается что коэффициент при образовании должен уменьшиться, потому что образование повысилось, следовательно коэффициент занижен."
   ]
  },
  {
   "cell_type": "markdown",
   "metadata": {},
   "source": [
    "#7\n",
    "переменная sibs является экзогенной, потому что наша зарплата которую мы получаем, не имеет особо связи с количество братьев и сестер, так как решения наших родителей какое количество детей иметь, скорее всего не влияет на нашу зарплату, и зарплата в большой степени зависит от твоих потребностей и желаний, какой количество усилий и времени ты готов это посвятить."
   ]
  },
  {
   "cell_type": "code",
   "execution_count": 6,
   "metadata": {},
   "outputs": [
    {
     "data": {
      "text/html": [
       "<div>\n",
       "<style scoped>\n",
       "    .dataframe tbody tr th:only-of-type {\n",
       "        vertical-align: middle;\n",
       "    }\n",
       "\n",
       "    .dataframe tbody tr th {\n",
       "        vertical-align: top;\n",
       "    }\n",
       "\n",
       "    .dataframe thead th {\n",
       "        text-align: right;\n",
       "    }\n",
       "</style>\n",
       "<table border=\"1\" class=\"dataframe\">\n",
       "  <thead>\n",
       "    <tr style=\"text-align: right;\">\n",
       "      <th></th>\n",
       "      <th>sibs</th>\n",
       "      <th>educ</th>\n",
       "    </tr>\n",
       "  </thead>\n",
       "  <tbody>\n",
       "    <tr>\n",
       "      <th>sibs</th>\n",
       "      <td>1.00</td>\n",
       "      <td>-0.24</td>\n",
       "    </tr>\n",
       "    <tr>\n",
       "      <th>educ</th>\n",
       "      <td>-0.24</td>\n",
       "      <td>1.00</td>\n",
       "    </tr>\n",
       "  </tbody>\n",
       "</table>\n",
       "</div>"
      ],
      "text/plain": [
       "       sibs   educ\n",
       "sibs   1.00  -0.24\n",
       "educ  -0.24   1.00"
      ]
     },
     "execution_count": 6,
     "metadata": {},
     "output_type": "execute_result"
    }
   ],
   "source": [
    "#8\n",
    "df[['sibs','educ']].corr()"
   ]
  },
  {
   "cell_type": "markdown",
   "metadata": {},
   "source": [
    "из показателя видно, что корреялция существует между sibs и educ"
   ]
  },
  {
   "cell_type": "code",
   "execution_count": 7,
   "metadata": {},
   "outputs": [
    {
     "data": {
      "text/html": [
       "<div>\n",
       "<style scoped>\n",
       "    .dataframe tbody tr th:only-of-type {\n",
       "        vertical-align: middle;\n",
       "    }\n",
       "\n",
       "    .dataframe tbody tr th {\n",
       "        vertical-align: top;\n",
       "    }\n",
       "\n",
       "    .dataframe thead th {\n",
       "        text-align: right;\n",
       "    }\n",
       "</style>\n",
       "<table border=\"1\" class=\"dataframe\">\n",
       "  <thead>\n",
       "    <tr style=\"text-align: right;\">\n",
       "      <th></th>\n",
       "      <th>sibs</th>\n",
       "      <th>educ</th>\n",
       "    </tr>\n",
       "  </thead>\n",
       "  <tbody>\n",
       "    <tr>\n",
       "      <th>sibs</th>\n",
       "      <td>5.32</td>\n",
       "      <td>-1.21</td>\n",
       "    </tr>\n",
       "    <tr>\n",
       "      <th>educ</th>\n",
       "      <td>-1.21</td>\n",
       "      <td>4.83</td>\n",
       "    </tr>\n",
       "  </tbody>\n",
       "</table>\n",
       "</div>"
      ],
      "text/plain": [
       "       sibs   educ\n",
       "sibs   5.32  -1.21\n",
       "educ  -1.21   4.83"
      ]
     },
     "execution_count": 7,
     "metadata": {},
     "output_type": "execute_result"
    }
   ],
   "source": [
    "df[['sibs','educ']].cov()"
   ]
  },
  {
   "cell_type": "markdown",
   "metadata": {},
   "source": [
    "Смещение коэф инструмента происходит, когда у нас ковариация между инструментом и регрессором, достаточная маленькая, при таком условии инструмент слабый, в данном случае ковариация между переменными не значительно низкая, поэтому можно считать инструмент относительно сильным, использовать можно"
   ]
  },
  {
   "cell_type": "code",
   "execution_count": 8,
   "metadata": {},
   "outputs": [
    {
     "name": "stdout",
     "output_type": "stream",
     "text": [
      "                          IV-2SLS Estimation Summary                          \n",
      "==============================================================================\n",
      "Dep. Variable:                  lwage   R-squared:                      0.1685\n",
      "Estimator:                    IV-2SLS   Adj. R-squared:                 0.1650\n",
      "No. Observations:                 935   F-statistic:                    101.47\n",
      "Date:                Wed, Dec 18 2019   P-value (F-stat)                0.0000\n",
      "Time:                        14:00:10   Distribution:                  chi2(4)\n",
      "Cov. Estimator:                robust                                         \n",
      "                                                                              \n",
      "                             Parameter Estimates                              \n",
      "==============================================================================\n",
      "            Parameter  Std. Err.     T-stat    P-value    Lower CI    Upper CI\n",
      "------------------------------------------------------------------------------\n",
      "Intercept      5.2160     0.5174     10.081     0.0000      4.2019      6.2301\n",
      "exper          0.0209     0.0083     2.5215     0.0117      0.0047      0.0372\n",
      "tenure         0.0115     0.0028     4.1894     0.0000      0.0061      0.0170\n",
      "black         -0.1833     0.0501    -3.6606     0.0003     -0.2815     -0.0852\n",
      "educ           0.0936     0.0318     2.9414     0.0033      0.0312      0.1560\n",
      "==============================================================================\n",
      "\n",
      "Endogenous: educ\n",
      "Instruments: sibs\n",
      "Robust Covariance (Heteroskedastic)\n",
      "Debiased: False\n"
     ]
    }
   ],
   "source": [
    "#9\n",
    "from linearmodels.iv import IV2SLS\n",
    "formula = 'lwage ~ 1 + exper + tenure + black + [educ ~ sibs]'\n",
    "mod = IV2SLS.from_formula(formula, df)\n",
    "reslutIV = mod.fit(cov_type = 'robust')\n",
    "print(reslutIV.summary)"
   ]
  },
  {
   "cell_type": "markdown",
   "metadata": {},
   "source": [
    "#10\n",
    "мы видим, что переменная sibs повлияла на коэффициент, перед educ, изначально был коэффициент занижен, он равнялся 0.07, теперь 0.09, это говорит о том, что существует эндогенность между зп и educ, то есть зп могла повлиять на образования"
   ]
  },
  {
   "cell_type": "code",
   "execution_count": 9,
   "metadata": {},
   "outputs": [
    {
     "name": "stdout",
     "output_type": "stream",
     "text": [
      "                            OLS Regression Results                            \n",
      "==============================================================================\n",
      "Dep. Variable:                  lwage   R-squared:                       0.181\n",
      "Model:                            OLS   Adj. R-squared:                  0.178\n",
      "Method:                 Least Squares   F-statistic:                     52.93\n",
      "Date:                Wed, 18 Dec 2019   Prob (F-statistic):           3.29e-40\n",
      "Time:                        14:00:12   Log-Likelihood:                -424.18\n",
      "No. Observations:                 935   AIC:                             858.4\n",
      "Df Residuals:                     930   BIC:                             882.6\n",
      "Df Model:                           4                                         \n",
      "Covariance Type:                  HC0                                         \n",
      "==============================================================================\n",
      "                 coef    std err          z      P>|z|      [0.025      0.975]\n",
      "------------------------------------------------------------------------------\n",
      "const          5.6125      0.115     48.987      0.000       5.388       5.837\n",
      "educ           0.0690      0.007     10.246      0.000       0.056       0.082\n",
      "exper          0.0152      0.003      4.542      0.000       0.009       0.022\n",
      "tenure         0.0122      0.003      4.688      0.000       0.007       0.017\n",
      "black         -0.2074      0.037     -5.555      0.000      -0.281      -0.134\n",
      "==============================================================================\n",
      "Omnibus:                       24.859   Durbin-Watson:                   1.773\n",
      "Prob(Omnibus):                  0.000   Jarque-Bera (JB):               38.910\n",
      "Skew:                          -0.229   Prob(JB):                     3.55e-09\n",
      "Kurtosis:                       3.889   Cond. No.                         174.\n",
      "==============================================================================\n",
      "\n",
      "Warnings:\n",
      "[1] Standard Errors are heteroscedasticity robust (HC0)\n"
     ]
    }
   ],
   "source": [
    "#11\n",
    "model = OLS(df.educ , sm.add_constant(df.sibs))\n",
    "result2 = model.fit(cov_type='HC0') \n",
    "print(result.summary())"
   ]
  },
  {
   "cell_type": "code",
   "execution_count": 12,
   "metadata": {},
   "outputs": [],
   "source": [
    "df['predictions_educ'] = 14.1388 + -0.2279*df['sibs']"
   ]
  },
  {
   "cell_type": "code",
   "execution_count": 13,
   "metadata": {},
   "outputs": [
    {
     "name": "stdout",
     "output_type": "stream",
     "text": [
      "                            OLS Regression Results                            \n",
      "==============================================================================\n",
      "Dep. Variable:                  lwage   R-squared:                       0.089\n",
      "Model:                            OLS   Adj. R-squared:                  0.085\n",
      "Method:                 Least Squares   F-statistic:                     24.38\n",
      "Date:                Wed, 18 Dec 2019   Prob (F-statistic):           3.30e-19\n",
      "Time:                        14:00:32   Log-Likelihood:                -474.00\n",
      "No. Observations:                 935   AIC:                             958.0\n",
      "Df Residuals:                     930   BIC:                             982.2\n",
      "Df Model:                           4                                         \n",
      "Covariance Type:                  HC0                                         \n",
      "====================================================================================\n",
      "                       coef    std err          z      P>|z|      [0.025      0.975]\n",
      "------------------------------------------------------------------------------------\n",
      "const                5.7710      0.340     16.959      0.000       5.104       6.438\n",
      "predictions_educ     0.0700      0.025      2.846      0.004       0.022       0.118\n",
      "exper               -0.0004      0.003     -0.130      0.896      -0.006       0.006\n",
      "tenure               0.0140      0.003      5.194      0.000       0.009       0.019\n",
      "black               -0.2416      0.039     -6.128      0.000      -0.319      -0.164\n",
      "==============================================================================\n",
      "Omnibus:                       19.516   Durbin-Watson:                   1.717\n",
      "Prob(Omnibus):                  0.000   Jarque-Bera (JB):               29.824\n",
      "Skew:                          -0.182   Prob(JB):                     3.34e-07\n",
      "Kurtosis:                       3.795   Cond. No.                         537.\n",
      "==============================================================================\n",
      "\n",
      "Warnings:\n",
      "[1] Standard Errors are heteroscedasticity robust (HC0)\n"
     ]
    }
   ],
   "source": [
    "model = OLS(df.lwage , sm.add_constant(df[['predictions_educ','exper','tenure','black']]))\n",
    "result = model.fit(cov_type='HC0')\n",
    "print(result.summary())"
   ]
  },
  {
   "cell_type": "code",
   "execution_count": null,
   "metadata": {},
   "outputs": [],
   "source": []
  },
  {
   "cell_type": "markdown",
   "metadata": {},
   "source": [
    "#12\n",
    "изначально ковариация экзогенных переменных с ошибкой = 0, но при этом ковариация с эндогенной переменной с ошибкой не 0, и cov(sibs,u)= 0, оценили модель, но при этом в educ теперь есть какие-то ошибки, когда делаем второй шаг, переменная educ, теперь экзогенная, но из-за того, что мы оценивали с ошибками, ковариация этой ошибки с изначальными экзогенными переменнами может быть не 0 => они могут стать эндогенными"
   ]
  },
  {
   "cell_type": "markdown",
   "metadata": {},
   "source": [
    "#13\n",
    "в 9 пункте при увеличении образования на 1 год, зарпалата увеличивается на (exp(0.0936)-1)*100%=9,8% при прочих равных. в 11 пункте при увеличении образования на 1 год, зарплата увеличивается на (exp(0.07)-1)*100%=7,25%, таким образом во втором случае у нас коэффициент при образовании занижен, это значит, что в 1 случае зарплата увеличивается больше при увеличении на 1 год в образовании. При этом у нас R^2 adj. в правильном случае имеет большее значение по сравнению с неправильной моделью."
   ]
  },
  {
   "cell_type": "markdown",
   "metadata": {},
   "source": [
    "#14 \n",
    "пропущенной переменной может выступать проживание в большом городе \"urban\", с большой долей вероятности в большом городе средняя зарплата будет выше, чем в маленьком городе."
   ]
  },
  {
   "cell_type": "code",
   "execution_count": 109,
   "metadata": {},
   "outputs": [
    {
     "name": "stdout",
     "output_type": "stream",
     "text": [
      "                          IV-2SLS Estimation Summary                          \n",
      "==============================================================================\n",
      "Dep. Variable:                  lwage   R-squared:                      0.2176\n",
      "Estimator:                    IV-2SLS   Adj. R-squared:                 0.2134\n",
      "No. Observations:                 935   F-statistic:                    174.96\n",
      "Date:                Sat, Dec 14 2019   P-value (F-stat)                0.0000\n",
      "Time:                        20:38:24   Distribution:                  chi2(5)\n",
      "Cov. Estimator:                robust                                         \n",
      "                                                                              \n",
      "                             Parameter Estimates                              \n",
      "==============================================================================\n",
      "            Parameter  Std. Err.     T-stat    P-value    Lower CI    Upper CI\n",
      "------------------------------------------------------------------------------\n",
      "Intercept      5.2660     0.4961     10.614     0.0000      4.2935      6.2384\n",
      "exper          0.0190     0.0080     2.3703     0.0178      0.0033      0.0347\n",
      "tenure         0.0122     0.0027     4.5801     0.0000      0.0070      0.0175\n",
      "black         -0.2130     0.0498    -4.2792     0.0000     -0.3106     -0.1155\n",
      "urban          0.1870     0.0291     6.4167     0.0000      0.1299      0.2442\n",
      "educ           0.0815     0.0310     2.6254     0.0087      0.0207      0.1424\n",
      "==============================================================================\n",
      "\n",
      "Endogenous: educ\n",
      "Instruments: sibs\n",
      "Robust Covariance (Heteroskedastic)\n",
      "Debiased: False\n"
     ]
    }
   ],
   "source": [
    "formula = 'lwage ~ 1 + exper + tenure + black + urban + [educ ~ sibs]'\n",
    "mod = IV2SLS.from_formula(formula, df)\n",
    "reslutIV = mod.fit(cov_type = 'robust')\n",
    "print(reslutIV.summary)"
   ]
  },
  {
   "cell_type": "markdown",
   "metadata": {},
   "source": [
    "Неправильная модель"
   ]
  },
  {
   "cell_type": "code",
   "execution_count": 107,
   "metadata": {},
   "outputs": [
    {
     "name": "stdout",
     "output_type": "stream",
     "text": [
      "                            OLS Regression Results                            \n",
      "==============================================================================\n",
      "Dep. Variable:                  lwage   R-squared:                       0.138\n",
      "Model:                            OLS   Adj. R-squared:                  0.134\n",
      "Method:                 Least Squares   F-statistic:                     33.17\n",
      "Date:                Sat, 14 Dec 2019   Prob (F-statistic):           3.34e-31\n",
      "Time:                        20:37:47   Log-Likelihood:                -447.99\n",
      "No. Observations:                 935   AIC:                             908.0\n",
      "Df Residuals:                     929   BIC:                             937.0\n",
      "Df Model:                           5                                         \n",
      "Covariance Type:                  HC0                                         \n",
      "====================================================================================\n",
      "                       coef    std err          z      P>|z|      [0.025      0.975]\n",
      "------------------------------------------------------------------------------------\n",
      "const                5.7466      0.329     17.465      0.000       5.102       6.391\n",
      "predictions_educ     0.0599      0.024      2.503      0.012       0.013       0.107\n",
      "exper                0.0005      0.003      0.180      0.857      -0.005       0.006\n",
      "tenure               0.0144      0.003      5.461      0.000       0.009       0.020\n",
      "black               -0.2664      0.039     -6.837      0.000      -0.343      -0.190\n",
      "urban                0.2088      0.028      7.497      0.000       0.154       0.263\n",
      "==============================================================================\n",
      "Omnibus:                       30.628   Durbin-Watson:                   1.791\n",
      "Prob(Omnibus):                  0.000   Jarque-Bera (JB):               57.923\n",
      "Skew:                          -0.212   Prob(JB):                     2.64e-13\n",
      "Kurtosis:                       4.143   Cond. No.                         537.\n",
      "==============================================================================\n",
      "\n",
      "Warnings:\n",
      "[1] Standard Errors are heteroscedasticity robust (HC0)\n"
     ]
    }
   ],
   "source": [
    "model = OLS(df.lwage , sm.add_constant(df[['predictions_educ','exper','tenure','black','urban']]))\n",
    "result = model.fit(cov_type='HC0')\n",
    "print(result.summary())"
   ]
  },
  {
   "cell_type": "markdown",
   "metadata": {},
   "source": [
    "Видим что коэффициенты при переменных в двух моделях достаточно сильно отличаются, например urban (если мы живем в большом городе ) увеличивает зарплату в правильной модели (exp(0.1870)-1)*100=20,5% и educ увеличение на 1 год образования увеличивает зарпалату на(exp(0.081)-1)*100=8,5%. в неправильной модели 22,1% и 6,1% соотвественно.\n",
    "То есть различие в показателях имеются."
   ]
  },
  {
   "cell_type": "code",
   "execution_count": null,
   "metadata": {},
   "outputs": [],
   "source": []
  }
 ],
 "metadata": {
  "kernelspec": {
   "display_name": "Python 3",
   "language": "python",
   "name": "python3"
  },
  "language_info": {
   "codemirror_mode": {
    "name": "ipython",
    "version": 3
   },
   "file_extension": ".py",
   "mimetype": "text/x-python",
   "name": "python",
   "nbconvert_exporter": "python",
   "pygments_lexer": "ipython3",
   "version": "3.7.3"
  }
 },
 "nbformat": 4,
 "nbformat_minor": 4
}
